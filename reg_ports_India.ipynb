{
 "cells": [
  {
   "cell_type": "code",
   "execution_count": 1,
   "metadata": {},
   "outputs": [],
   "source": [
    "import pandas as pd\n",
    "import numpy as np\n",
    "import matplotlib.pyplot as plt\n",
    "import seaborn as sns\n",
    "%matplotlib inline"
   ]
  },
  {
   "cell_type": "code",
   "execution_count": 2,
   "metadata": {},
   "outputs": [],
   "source": [
    "df1=pd.read_csv('India_vessle.csv').drop(['Unnamed: 0','Year-month'], axis=1)\n",
    "df2=pd.read_csv('India_loc_port.csv').drop(['Unnamed: 0'], axis=1)"
   ]
  },
  {
   "cell_type": "code",
   "execution_count": 3,
   "metadata": {},
   "outputs": [
    {
     "data": {
      "text/html": [
       "<div>\n",
       "<style scoped>\n",
       "    .dataframe tbody tr th:only-of-type {\n",
       "        vertical-align: middle;\n",
       "    }\n",
       "\n",
       "    .dataframe tbody tr th {\n",
       "        vertical-align: top;\n",
       "    }\n",
       "\n",
       "    .dataframe thead th {\n",
       "        text-align: right;\n",
       "    }\n",
       "</style>\n",
       "<table border=\"1\" class=\"dataframe\">\n",
       "  <thead>\n",
       "    <tr style=\"text-align: right;\">\n",
       "      <th></th>\n",
       "      <th>date</th>\n",
       "      <th>portname</th>\n",
       "      <th>country</th>\n",
       "      <th>passenger</th>\n",
       "      <th>cargo</th>\n",
       "      <th>tanker</th>\n",
       "      <th>pleasureCraft</th>\n",
       "      <th>fishing</th>\n",
       "      <th>tug</th>\n",
       "      <th>other</th>\n",
       "    </tr>\n",
       "  </thead>\n",
       "  <tbody>\n",
       "    <tr>\n",
       "      <th>0</th>\n",
       "      <td>2017-07-15</td>\n",
       "      <td>MUMBAI</td>\n",
       "      <td>India</td>\n",
       "      <td>0</td>\n",
       "      <td>8</td>\n",
       "      <td>13</td>\n",
       "      <td>0</td>\n",
       "      <td>0</td>\n",
       "      <td>5</td>\n",
       "      <td>34</td>\n",
       "    </tr>\n",
       "    <tr>\n",
       "      <th>1</th>\n",
       "      <td>2017-07-15</td>\n",
       "      <td>KAKINADA</td>\n",
       "      <td>India</td>\n",
       "      <td>0</td>\n",
       "      <td>1</td>\n",
       "      <td>0</td>\n",
       "      <td>0</td>\n",
       "      <td>0</td>\n",
       "      <td>0</td>\n",
       "      <td>7</td>\n",
       "    </tr>\n",
       "    <tr>\n",
       "      <th>2</th>\n",
       "      <td>2017-07-15</td>\n",
       "      <td>KOLKATA ANCH</td>\n",
       "      <td>India</td>\n",
       "      <td>0</td>\n",
       "      <td>6</td>\n",
       "      <td>2</td>\n",
       "      <td>0</td>\n",
       "      <td>0</td>\n",
       "      <td>0</td>\n",
       "      <td>0</td>\n",
       "    </tr>\n",
       "    <tr>\n",
       "      <th>3</th>\n",
       "      <td>2017-07-15</td>\n",
       "      <td>KATTUPALLI</td>\n",
       "      <td>India</td>\n",
       "      <td>0</td>\n",
       "      <td>0</td>\n",
       "      <td>0</td>\n",
       "      <td>0</td>\n",
       "      <td>0</td>\n",
       "      <td>0</td>\n",
       "      <td>2</td>\n",
       "    </tr>\n",
       "    <tr>\n",
       "      <th>4</th>\n",
       "      <td>2017-07-15</td>\n",
       "      <td>PANAJI</td>\n",
       "      <td>India</td>\n",
       "      <td>0</td>\n",
       "      <td>0</td>\n",
       "      <td>0</td>\n",
       "      <td>0</td>\n",
       "      <td>0</td>\n",
       "      <td>0</td>\n",
       "      <td>2</td>\n",
       "    </tr>\n",
       "  </tbody>\n",
       "</table>\n",
       "</div>"
      ],
      "text/plain": [
       "         date      portname country  passenger  cargo  tanker  pleasureCraft  \\\n",
       "0  2017-07-15        MUMBAI   India          0      8      13              0   \n",
       "1  2017-07-15      KAKINADA   India          0      1       0              0   \n",
       "2  2017-07-15  KOLKATA ANCH   India          0      6       2              0   \n",
       "3  2017-07-15    KATTUPALLI   India          0      0       0              0   \n",
       "4  2017-07-15        PANAJI   India          0      0       0              0   \n",
       "\n",
       "   fishing  tug  other  \n",
       "0        0    5     34  \n",
       "1        0    0      7  \n",
       "2        0    0      0  \n",
       "3        0    0      2  \n",
       "4        0    0      2  "
      ]
     },
     "execution_count": 3,
     "metadata": {},
     "output_type": "execute_result"
    }
   ],
   "source": [
    "df1.head()"
   ]
  },
  {
   "cell_type": "code",
   "execution_count": 4,
   "metadata": {},
   "outputs": [
    {
     "data": {
      "text/html": [
       "<div>\n",
       "<style scoped>\n",
       "    .dataframe tbody tr th:only-of-type {\n",
       "        vertical-align: middle;\n",
       "    }\n",
       "\n",
       "    .dataframe tbody tr th {\n",
       "        vertical-align: top;\n",
       "    }\n",
       "\n",
       "    .dataframe thead th {\n",
       "        text-align: right;\n",
       "    }\n",
       "</style>\n",
       "<table border=\"1\" class=\"dataframe\">\n",
       "  <thead>\n",
       "    <tr style=\"text-align: right;\">\n",
       "      <th></th>\n",
       "      <th>PortName</th>\n",
       "      <th>Latitude</th>\n",
       "      <th>Longitude</th>\n",
       "      <th>Coast</th>\n",
       "      <th>Size</th>\n",
       "      <th>color</th>\n",
       "    </tr>\n",
       "  </thead>\n",
       "  <tbody>\n",
       "    <tr>\n",
       "      <th>0</th>\n",
       "      <td>BADAPUTI</td>\n",
       "      <td>19.3039</td>\n",
       "      <td>84.9655</td>\n",
       "      <td>Eastern</td>\n",
       "      <td>Small</td>\n",
       "      <td>icon2.png</td>\n",
       "    </tr>\n",
       "    <tr>\n",
       "      <th>1</th>\n",
       "      <td>BEYPORE</td>\n",
       "      <td>11.1736</td>\n",
       "      <td>75.8040</td>\n",
       "      <td>Western</td>\n",
       "      <td>Very Small</td>\n",
       "      <td>icon1.png</td>\n",
       "    </tr>\n",
       "    <tr>\n",
       "      <th>2</th>\n",
       "      <td>BHARATI SHIPYARD</td>\n",
       "      <td>17.0405</td>\n",
       "      <td>73.2863</td>\n",
       "      <td>Western</td>\n",
       "      <td>Very Small</td>\n",
       "      <td>icon1.png</td>\n",
       "    </tr>\n",
       "    <tr>\n",
       "      <th>3</th>\n",
       "      <td>BHAVNAGAR</td>\n",
       "      <td>21.8029</td>\n",
       "      <td>72.1157</td>\n",
       "      <td>Western</td>\n",
       "      <td>Very Small</td>\n",
       "      <td>icon1.png</td>\n",
       "    </tr>\n",
       "    <tr>\n",
       "      <th>4</th>\n",
       "      <td>BHAVNAGAR NEW PORT</td>\n",
       "      <td>21.7609</td>\n",
       "      <td>72.2334</td>\n",
       "      <td>Western</td>\n",
       "      <td>Very Small</td>\n",
       "      <td>icon1.png</td>\n",
       "    </tr>\n",
       "  </tbody>\n",
       "</table>\n",
       "</div>"
      ],
      "text/plain": [
       "             PortName  Latitude  Longitude    Coast        Size      color\n",
       "0            BADAPUTI   19.3039    84.9655  Eastern       Small  icon2.png\n",
       "1             BEYPORE   11.1736    75.8040  Western  Very Small  icon1.png\n",
       "2    BHARATI SHIPYARD   17.0405    73.2863  Western  Very Small  icon1.png\n",
       "3           BHAVNAGAR   21.8029    72.1157  Western  Very Small  icon1.png\n",
       "4  BHAVNAGAR NEW PORT   21.7609    72.2334  Western  Very Small  icon1.png"
      ]
     },
     "execution_count": 4,
     "metadata": {},
     "output_type": "execute_result"
    }
   ],
   "source": [
    "df2.head()"
   ]
  },
  {
   "cell_type": "code",
   "execution_count": 5,
   "metadata": {},
   "outputs": [],
   "source": [
    "v=[]\n",
    "u=[]\n",
    "\n",
    "for i in range(0,len(df1)):\n",
    "    x=0\n",
    "    y=0\n",
    "    for j in range(0,len(df2)):\n",
    "        if df1['portname'][i]==df2['PortName'][j]:\n",
    "            x=df2['Latitude'][j]\n",
    "            y=df2['Longitude'][j]\n",
    "    v.append(x)\n",
    "    u.append(y)"
   ]
  },
  {
   "cell_type": "code",
   "execution_count": 6,
   "metadata": {},
   "outputs": [],
   "source": [
    "df1['latitude']=v\n",
    "df1['longitude']=u"
   ]
  },
  {
   "cell_type": "code",
   "execution_count": 7,
   "metadata": {},
   "outputs": [
    {
     "data": {
      "text/html": [
       "<div>\n",
       "<style scoped>\n",
       "    .dataframe tbody tr th:only-of-type {\n",
       "        vertical-align: middle;\n",
       "    }\n",
       "\n",
       "    .dataframe tbody tr th {\n",
       "        vertical-align: top;\n",
       "    }\n",
       "\n",
       "    .dataframe thead th {\n",
       "        text-align: right;\n",
       "    }\n",
       "</style>\n",
       "<table border=\"1\" class=\"dataframe\">\n",
       "  <thead>\n",
       "    <tr style=\"text-align: right;\">\n",
       "      <th></th>\n",
       "      <th>date</th>\n",
       "      <th>portname</th>\n",
       "      <th>country</th>\n",
       "      <th>passenger</th>\n",
       "      <th>cargo</th>\n",
       "      <th>tanker</th>\n",
       "      <th>pleasureCraft</th>\n",
       "      <th>fishing</th>\n",
       "      <th>tug</th>\n",
       "      <th>other</th>\n",
       "      <th>latitude</th>\n",
       "      <th>longitude</th>\n",
       "    </tr>\n",
       "  </thead>\n",
       "  <tbody>\n",
       "    <tr>\n",
       "      <th>0</th>\n",
       "      <td>2017-07-15</td>\n",
       "      <td>MUMBAI</td>\n",
       "      <td>India</td>\n",
       "      <td>0</td>\n",
       "      <td>8</td>\n",
       "      <td>13</td>\n",
       "      <td>0</td>\n",
       "      <td>0</td>\n",
       "      <td>5</td>\n",
       "      <td>34</td>\n",
       "      <td>18.9483</td>\n",
       "      <td>72.8442</td>\n",
       "    </tr>\n",
       "    <tr>\n",
       "      <th>1</th>\n",
       "      <td>2017-07-15</td>\n",
       "      <td>KAKINADA</td>\n",
       "      <td>India</td>\n",
       "      <td>0</td>\n",
       "      <td>1</td>\n",
       "      <td>0</td>\n",
       "      <td>0</td>\n",
       "      <td>0</td>\n",
       "      <td>0</td>\n",
       "      <td>7</td>\n",
       "      <td>16.9313</td>\n",
       "      <td>82.3058</td>\n",
       "    </tr>\n",
       "    <tr>\n",
       "      <th>2</th>\n",
       "      <td>2017-07-15</td>\n",
       "      <td>KOLKATA ANCH</td>\n",
       "      <td>India</td>\n",
       "      <td>0</td>\n",
       "      <td>6</td>\n",
       "      <td>2</td>\n",
       "      <td>0</td>\n",
       "      <td>0</td>\n",
       "      <td>0</td>\n",
       "      <td>0</td>\n",
       "      <td>20.9870</td>\n",
       "      <td>88.0019</td>\n",
       "    </tr>\n",
       "    <tr>\n",
       "      <th>3</th>\n",
       "      <td>2017-07-15</td>\n",
       "      <td>KATTUPALLI</td>\n",
       "      <td>India</td>\n",
       "      <td>0</td>\n",
       "      <td>0</td>\n",
       "      <td>0</td>\n",
       "      <td>0</td>\n",
       "      <td>0</td>\n",
       "      <td>0</td>\n",
       "      <td>2</td>\n",
       "      <td>13.3047</td>\n",
       "      <td>80.3561</td>\n",
       "    </tr>\n",
       "    <tr>\n",
       "      <th>4</th>\n",
       "      <td>2017-07-15</td>\n",
       "      <td>PANAJI</td>\n",
       "      <td>India</td>\n",
       "      <td>0</td>\n",
       "      <td>0</td>\n",
       "      <td>0</td>\n",
       "      <td>0</td>\n",
       "      <td>0</td>\n",
       "      <td>0</td>\n",
       "      <td>2</td>\n",
       "      <td>15.4826</td>\n",
       "      <td>73.7996</td>\n",
       "    </tr>\n",
       "  </tbody>\n",
       "</table>\n",
       "</div>"
      ],
      "text/plain": [
       "         date      portname country  passenger  cargo  tanker  pleasureCraft  \\\n",
       "0  2017-07-15        MUMBAI   India          0      8      13              0   \n",
       "1  2017-07-15      KAKINADA   India          0      1       0              0   \n",
       "2  2017-07-15  KOLKATA ANCH   India          0      6       2              0   \n",
       "3  2017-07-15    KATTUPALLI   India          0      0       0              0   \n",
       "4  2017-07-15        PANAJI   India          0      0       0              0   \n",
       "\n",
       "   fishing  tug  other  latitude  longitude  \n",
       "0        0    5     34   18.9483    72.8442  \n",
       "1        0    0      7   16.9313    82.3058  \n",
       "2        0    0      0   20.9870    88.0019  \n",
       "3        0    0      2   13.3047    80.3561  \n",
       "4        0    0      2   15.4826    73.7996  "
      ]
     },
     "execution_count": 7,
     "metadata": {},
     "output_type": "execute_result"
    }
   ],
   "source": [
    "df1.head()"
   ]
  },
  {
   "cell_type": "code",
   "execution_count": 8,
   "metadata": {},
   "outputs": [],
   "source": [
    "import datetime\n",
    "from datetime import datetime as dtime"
   ]
  },
  {
   "cell_type": "code",
   "execution_count": 9,
   "metadata": {},
   "outputs": [],
   "source": [
    "df1[\"date\"]=pd.to_datetime(df1['date'],yearfirst=True)"
   ]
  },
  {
   "cell_type": "code",
   "execution_count": 10,
   "metadata": {},
   "outputs": [],
   "source": [
    "v=[]\n",
    "\n",
    "for i in range(0,len(df1)):\n",
    "    x=df1['date'][i].day\n",
    "    v.append(x)\n",
    "    \n",
    "df1['day_of_month']=v"
   ]
  },
  {
   "cell_type": "code",
   "execution_count": 11,
   "metadata": {},
   "outputs": [],
   "source": [
    "v=[]\n",
    "\n",
    "for i in range(0,len(df1)):\n",
    "    x=df1['date'][i].dayofweek+1\n",
    "    v.append(x)\n",
    "    \n",
    "df1['day_of_week']=v"
   ]
  },
  {
   "cell_type": "code",
   "execution_count": 12,
   "metadata": {},
   "outputs": [],
   "source": [
    "v=[]\n",
    "\n",
    "for i in range(0,len(df1)):\n",
    "    x=df1['date'][i].month\n",
    "    v.append(x)\n",
    "    \n",
    "df1['month_of_year']=v"
   ]
  },
  {
   "cell_type": "code",
   "execution_count": 13,
   "metadata": {},
   "outputs": [],
   "source": [
    "vessel=['passenger', 'cargo', 'tanker', 'pleasureCraft', 'fishing', 'tug', 'other']\n",
    "\n",
    "v=[]\n",
    "for i in range(0,len(df1)):\n",
    "    sum=0\n",
    "    for j in vessel:\n",
    "        sum=sum+df1[j][i]\n",
    "    v.append(sum)\n",
    "    \n",
    "df1['Total']=v"
   ]
  },
  {
   "cell_type": "code",
   "execution_count": 14,
   "metadata": {},
   "outputs": [],
   "source": [
    "#df1.head(20)"
   ]
  },
  {
   "cell_type": "code",
   "execution_count": 15,
   "metadata": {},
   "outputs": [],
   "source": [
    "df=df1[['latitude','longitude','month_of_year','day_of_week','day_of_month','Total']]"
   ]
  },
  {
   "cell_type": "code",
   "execution_count": 16,
   "metadata": {},
   "outputs": [
    {
     "data": {
      "text/html": [
       "<div>\n",
       "<style scoped>\n",
       "    .dataframe tbody tr th:only-of-type {\n",
       "        vertical-align: middle;\n",
       "    }\n",
       "\n",
       "    .dataframe tbody tr th {\n",
       "        vertical-align: top;\n",
       "    }\n",
       "\n",
       "    .dataframe thead th {\n",
       "        text-align: right;\n",
       "    }\n",
       "</style>\n",
       "<table border=\"1\" class=\"dataframe\">\n",
       "  <thead>\n",
       "    <tr style=\"text-align: right;\">\n",
       "      <th></th>\n",
       "      <th>latitude</th>\n",
       "      <th>longitude</th>\n",
       "      <th>month_of_year</th>\n",
       "      <th>day_of_week</th>\n",
       "      <th>day_of_month</th>\n",
       "      <th>Total</th>\n",
       "    </tr>\n",
       "  </thead>\n",
       "  <tbody>\n",
       "    <tr>\n",
       "      <th>0</th>\n",
       "      <td>18.9483</td>\n",
       "      <td>72.8442</td>\n",
       "      <td>7</td>\n",
       "      <td>6</td>\n",
       "      <td>15</td>\n",
       "      <td>60</td>\n",
       "    </tr>\n",
       "    <tr>\n",
       "      <th>1</th>\n",
       "      <td>16.9313</td>\n",
       "      <td>82.3058</td>\n",
       "      <td>7</td>\n",
       "      <td>6</td>\n",
       "      <td>15</td>\n",
       "      <td>8</td>\n",
       "    </tr>\n",
       "    <tr>\n",
       "      <th>2</th>\n",
       "      <td>20.9870</td>\n",
       "      <td>88.0019</td>\n",
       "      <td>7</td>\n",
       "      <td>6</td>\n",
       "      <td>15</td>\n",
       "      <td>8</td>\n",
       "    </tr>\n",
       "    <tr>\n",
       "      <th>3</th>\n",
       "      <td>13.3047</td>\n",
       "      <td>80.3561</td>\n",
       "      <td>7</td>\n",
       "      <td>6</td>\n",
       "      <td>15</td>\n",
       "      <td>2</td>\n",
       "    </tr>\n",
       "    <tr>\n",
       "      <th>4</th>\n",
       "      <td>15.4826</td>\n",
       "      <td>73.7996</td>\n",
       "      <td>7</td>\n",
       "      <td>6</td>\n",
       "      <td>15</td>\n",
       "      <td>2</td>\n",
       "    </tr>\n",
       "  </tbody>\n",
       "</table>\n",
       "</div>"
      ],
      "text/plain": [
       "   latitude  longitude  month_of_year  day_of_week  day_of_month  Total\n",
       "0   18.9483    72.8442              7            6            15     60\n",
       "1   16.9313    82.3058              7            6            15      8\n",
       "2   20.9870    88.0019              7            6            15      8\n",
       "3   13.3047    80.3561              7            6            15      2\n",
       "4   15.4826    73.7996              7            6            15      2"
      ]
     },
     "execution_count": 16,
     "metadata": {},
     "output_type": "execute_result"
    }
   ],
   "source": [
    "df.head()"
   ]
  },
  {
   "cell_type": "code",
   "execution_count": 17,
   "metadata": {},
   "outputs": [
    {
     "data": {
      "text/plain": [
       "Index(['latitude', 'longitude', 'month_of_year', 'day_of_week', 'day_of_month',\n",
       "       'Total'],\n",
       "      dtype='object')"
      ]
     },
     "execution_count": 17,
     "metadata": {},
     "output_type": "execute_result"
    }
   ],
   "source": [
    "df.columns"
   ]
  },
  {
   "cell_type": "code",
   "execution_count": 18,
   "metadata": {},
   "outputs": [],
   "source": [
    "# Creating train set 80% and test set 20%\n",
    "msk = np.random.rand(len(df)) < 0.8\n",
    "train = df[msk]\n",
    "test = df[~msk]"
   ]
  },
  {
   "cell_type": "code",
   "execution_count": 19,
   "metadata": {},
   "outputs": [
    {
     "name": "stdout",
     "output_type": "stream",
     "text": [
      "(75768, 6)\n",
      "(60620, 6)\n",
      "(15148, 6)\n"
     ]
    }
   ],
   "source": [
    "print(df.shape)\n",
    "print(train.shape)\n",
    "print(test.shape)"
   ]
  },
  {
   "cell_type": "code",
   "execution_count": 20,
   "metadata": {},
   "outputs": [
    {
     "name": "stdout",
     "output_type": "stream",
     "text": [
      "Coefficients:  [[ 0.24823904 -0.51302937 -0.07232294 -0.07674322  0.00624251]]\n",
      "Intercept:  [47.6769276]\n"
     ]
    }
   ],
   "source": [
    "# Multiple regression model\n",
    "from sklearn import linear_model\n",
    "\n",
    "regr = linear_model.LinearRegression()\n",
    "x = np.asanyarray(train[['latitude', 'longitude', 'month_of_year', 'day_of_week','day_of_month']])\n",
    "y = np.asanyarray(train[['Total']])\n",
    "regr.fit (x, y)\n",
    "# The coefficients\n",
    "print('Coefficients: ', regr.coef_)\n",
    "print('Intercept: ',regr.intercept_)"
   ]
  },
  {
   "cell_type": "code",
   "execution_count": 23,
   "metadata": {},
   "outputs": [
    {
     "name": "stdout",
     "output_type": "stream",
     "text": [
      "Residual sum of squares: 335.36\n",
      "Variance score: 0.03\n"
     ]
    }
   ],
   "source": [
    "# data prediction\n",
    "y_hat= regr.predict(test[['latitude', 'longitude', 'month_of_year', 'day_of_week','day_of_month']])\n",
    "x = np.asanyarray(test[['latitude', 'longitude', 'month_of_year', 'day_of_week','day_of_month']])\n",
    "y = np.asanyarray(test[['Total']])\n",
    "print(\"Residual sum of squares: %.2f\"\n",
    "      % np.mean((y_hat - y) ** 2))\n",
    "\n",
    "# Explained variance score: 1 is perfect prediction\n",
    "print('Variance score: %.2f' % regr.score(x, y))"
   ]
  },
  {
   "cell_type": "code",
   "execution_count": 24,
   "metadata": {},
   "outputs": [],
   "source": [
    "df_mum=df1[df1['portname']=='MUMBAI'].reset_index().drop('index', axis=1)"
   ]
  },
  {
   "cell_type": "code",
   "execution_count": 25,
   "metadata": {},
   "outputs": [
    {
     "data": {
      "text/html": [
       "<div>\n",
       "<style scoped>\n",
       "    .dataframe tbody tr th:only-of-type {\n",
       "        vertical-align: middle;\n",
       "    }\n",
       "\n",
       "    .dataframe tbody tr th {\n",
       "        vertical-align: top;\n",
       "    }\n",
       "\n",
       "    .dataframe thead th {\n",
       "        text-align: right;\n",
       "    }\n",
       "</style>\n",
       "<table border=\"1\" class=\"dataframe\">\n",
       "  <thead>\n",
       "    <tr style=\"text-align: right;\">\n",
       "      <th></th>\n",
       "      <th>date</th>\n",
       "      <th>portname</th>\n",
       "      <th>country</th>\n",
       "      <th>passenger</th>\n",
       "      <th>cargo</th>\n",
       "      <th>tanker</th>\n",
       "      <th>pleasureCraft</th>\n",
       "      <th>fishing</th>\n",
       "      <th>tug</th>\n",
       "      <th>other</th>\n",
       "      <th>latitude</th>\n",
       "      <th>longitude</th>\n",
       "      <th>day_of_month</th>\n",
       "      <th>day_of_week</th>\n",
       "      <th>month_of_year</th>\n",
       "      <th>Total</th>\n",
       "    </tr>\n",
       "  </thead>\n",
       "  <tbody>\n",
       "    <tr>\n",
       "      <th>0</th>\n",
       "      <td>2017-07-15</td>\n",
       "      <td>MUMBAI</td>\n",
       "      <td>India</td>\n",
       "      <td>0</td>\n",
       "      <td>8</td>\n",
       "      <td>13</td>\n",
       "      <td>0</td>\n",
       "      <td>0</td>\n",
       "      <td>5</td>\n",
       "      <td>34</td>\n",
       "      <td>18.9483</td>\n",
       "      <td>72.8442</td>\n",
       "      <td>15</td>\n",
       "      <td>6</td>\n",
       "      <td>7</td>\n",
       "      <td>60</td>\n",
       "    </tr>\n",
       "    <tr>\n",
       "      <th>1</th>\n",
       "      <td>2017-07-16</td>\n",
       "      <td>MUMBAI</td>\n",
       "      <td>India</td>\n",
       "      <td>0</td>\n",
       "      <td>11</td>\n",
       "      <td>10</td>\n",
       "      <td>0</td>\n",
       "      <td>0</td>\n",
       "      <td>3</td>\n",
       "      <td>31</td>\n",
       "      <td>18.9483</td>\n",
       "      <td>72.8442</td>\n",
       "      <td>16</td>\n",
       "      <td>7</td>\n",
       "      <td>7</td>\n",
       "      <td>55</td>\n",
       "    </tr>\n",
       "    <tr>\n",
       "      <th>2</th>\n",
       "      <td>2017-07-17</td>\n",
       "      <td>MUMBAI</td>\n",
       "      <td>India</td>\n",
       "      <td>0</td>\n",
       "      <td>17</td>\n",
       "      <td>10</td>\n",
       "      <td>0</td>\n",
       "      <td>0</td>\n",
       "      <td>5</td>\n",
       "      <td>36</td>\n",
       "      <td>18.9483</td>\n",
       "      <td>72.8442</td>\n",
       "      <td>17</td>\n",
       "      <td>1</td>\n",
       "      <td>7</td>\n",
       "      <td>68</td>\n",
       "    </tr>\n",
       "    <tr>\n",
       "      <th>3</th>\n",
       "      <td>2017-07-18</td>\n",
       "      <td>MUMBAI</td>\n",
       "      <td>India</td>\n",
       "      <td>0</td>\n",
       "      <td>7</td>\n",
       "      <td>7</td>\n",
       "      <td>0</td>\n",
       "      <td>0</td>\n",
       "      <td>6</td>\n",
       "      <td>31</td>\n",
       "      <td>18.9483</td>\n",
       "      <td>72.8442</td>\n",
       "      <td>18</td>\n",
       "      <td>2</td>\n",
       "      <td>7</td>\n",
       "      <td>51</td>\n",
       "    </tr>\n",
       "    <tr>\n",
       "      <th>4</th>\n",
       "      <td>2017-07-19</td>\n",
       "      <td>MUMBAI</td>\n",
       "      <td>India</td>\n",
       "      <td>0</td>\n",
       "      <td>20</td>\n",
       "      <td>7</td>\n",
       "      <td>0</td>\n",
       "      <td>1</td>\n",
       "      <td>14</td>\n",
       "      <td>39</td>\n",
       "      <td>18.9483</td>\n",
       "      <td>72.8442</td>\n",
       "      <td>19</td>\n",
       "      <td>3</td>\n",
       "      <td>7</td>\n",
       "      <td>81</td>\n",
       "    </tr>\n",
       "  </tbody>\n",
       "</table>\n",
       "</div>"
      ],
      "text/plain": [
       "        date portname country  passenger  cargo  tanker  pleasureCraft  \\\n",
       "0 2017-07-15   MUMBAI   India          0      8      13              0   \n",
       "1 2017-07-16   MUMBAI   India          0     11      10              0   \n",
       "2 2017-07-17   MUMBAI   India          0     17      10              0   \n",
       "3 2017-07-18   MUMBAI   India          0      7       7              0   \n",
       "4 2017-07-19   MUMBAI   India          0     20       7              0   \n",
       "\n",
       "   fishing  tug  other  latitude  longitude  day_of_month  day_of_week  \\\n",
       "0        0    5     34   18.9483    72.8442            15            6   \n",
       "1        0    3     31   18.9483    72.8442            16            7   \n",
       "2        0    5     36   18.9483    72.8442            17            1   \n",
       "3        0    6     31   18.9483    72.8442            18            2   \n",
       "4        1   14     39   18.9483    72.8442            19            3   \n",
       "\n",
       "   month_of_year  Total  \n",
       "0              7     60  \n",
       "1              7     55  \n",
       "2              7     68  \n",
       "3              7     51  \n",
       "4              7     81  "
      ]
     },
     "execution_count": 25,
     "metadata": {},
     "output_type": "execute_result"
    }
   ],
   "source": [
    "df_mum.head()"
   ]
  },
  {
   "cell_type": "code",
   "execution_count": 26,
   "metadata": {},
   "outputs": [],
   "source": [
    "v=[]\n",
    "for i in range(0,len(df_mum)):\n",
    "    x=i+1\n",
    "    v.append(x)"
   ]
  },
  {
   "cell_type": "code",
   "execution_count": 27,
   "metadata": {},
   "outputs": [],
   "source": [
    "df_mum['Count']=v"
   ]
  },
  {
   "cell_type": "code",
   "execution_count": null,
   "metadata": {},
   "outputs": [],
   "source": [
    "df_mum.tail()"
   ]
  },
  {
   "cell_type": "code",
   "execution_count": 28,
   "metadata": {},
   "outputs": [],
   "source": [
    "df=df_mum[['Count','day_of_week','month_of_year','day_of_month','Total']]"
   ]
  },
  {
   "cell_type": "code",
   "execution_count": 29,
   "metadata": {},
   "outputs": [
    {
     "data": {
      "text/html": [
       "<div>\n",
       "<style scoped>\n",
       "    .dataframe tbody tr th:only-of-type {\n",
       "        vertical-align: middle;\n",
       "    }\n",
       "\n",
       "    .dataframe tbody tr th {\n",
       "        vertical-align: top;\n",
       "    }\n",
       "\n",
       "    .dataframe thead th {\n",
       "        text-align: right;\n",
       "    }\n",
       "</style>\n",
       "<table border=\"1\" class=\"dataframe\">\n",
       "  <thead>\n",
       "    <tr style=\"text-align: right;\">\n",
       "      <th></th>\n",
       "      <th>Count</th>\n",
       "      <th>day_of_week</th>\n",
       "      <th>month_of_year</th>\n",
       "      <th>day_of_month</th>\n",
       "      <th>Total</th>\n",
       "    </tr>\n",
       "  </thead>\n",
       "  <tbody>\n",
       "    <tr>\n",
       "      <th>0</th>\n",
       "      <td>1</td>\n",
       "      <td>6</td>\n",
       "      <td>7</td>\n",
       "      <td>15</td>\n",
       "      <td>60</td>\n",
       "    </tr>\n",
       "    <tr>\n",
       "      <th>1</th>\n",
       "      <td>2</td>\n",
       "      <td>7</td>\n",
       "      <td>7</td>\n",
       "      <td>16</td>\n",
       "      <td>55</td>\n",
       "    </tr>\n",
       "    <tr>\n",
       "      <th>2</th>\n",
       "      <td>3</td>\n",
       "      <td>1</td>\n",
       "      <td>7</td>\n",
       "      <td>17</td>\n",
       "      <td>68</td>\n",
       "    </tr>\n",
       "    <tr>\n",
       "      <th>3</th>\n",
       "      <td>4</td>\n",
       "      <td>2</td>\n",
       "      <td>7</td>\n",
       "      <td>18</td>\n",
       "      <td>51</td>\n",
       "    </tr>\n",
       "    <tr>\n",
       "      <th>4</th>\n",
       "      <td>5</td>\n",
       "      <td>3</td>\n",
       "      <td>7</td>\n",
       "      <td>19</td>\n",
       "      <td>81</td>\n",
       "    </tr>\n",
       "  </tbody>\n",
       "</table>\n",
       "</div>"
      ],
      "text/plain": [
       "   Count  day_of_week  month_of_year  day_of_month  Total\n",
       "0      1            6              7            15     60\n",
       "1      2            7              7            16     55\n",
       "2      3            1              7            17     68\n",
       "3      4            2              7            18     51\n",
       "4      5            3              7            19     81"
      ]
     },
     "execution_count": 29,
     "metadata": {},
     "output_type": "execute_result"
    }
   ],
   "source": [
    "df.head()"
   ]
  },
  {
   "cell_type": "code",
   "execution_count": 30,
   "metadata": {},
   "outputs": [],
   "source": [
    "# Splitting Mumbai data in training and testing sets\n",
    "msk = np.random.rand(len(df)) < 0.8\n",
    "train = df[msk]\n",
    "test = df[~msk]"
   ]
  },
  {
   "cell_type": "code",
   "execution_count": 31,
   "metadata": {},
   "outputs": [
    {
     "name": "stdout",
     "output_type": "stream",
     "text": [
      "(1439, 5)\n",
      "(1168, 5)\n",
      "(271, 5)\n"
     ]
    }
   ],
   "source": [
    "print(df.shape)\n",
    "print(train.shape)\n",
    "print(test.shape)"
   ]
  },
  {
   "cell_type": "markdown",
   "metadata": {},
   "source": [
    "### Linear Regression"
   ]
  },
  {
   "cell_type": "code",
   "execution_count": 32,
   "metadata": {},
   "outputs": [
    {
     "name": "stdout",
     "output_type": "stream",
     "text": [
      "Coefficients:  [[-0.03118142]]\n",
      "Intercept:  [115.76434085]\n"
     ]
    }
   ],
   "source": [
    "lm = linear_model.LinearRegression()\n",
    "x = np.asanyarray(train[['Count']])\n",
    "y = np.asanyarray(train[['Total']])\n",
    "lm.fit (x, y)\n",
    "# The coefficients\n",
    "print('Coefficients: ', lm.coef_)\n",
    "print('Intercept: ',lm.intercept_)"
   ]
  },
  {
   "cell_type": "code",
   "execution_count": 33,
   "metadata": {},
   "outputs": [
    {
     "name": "stdout",
     "output_type": "stream",
     "text": [
      "Residual sum of squares: 909.17\n",
      "Variance score: 0.15\n"
     ]
    }
   ],
   "source": [
    "y_hat= lm.predict(test[['Count']])\n",
    "x = np.asanyarray(test[['Count']])\n",
    "y = np.asanyarray(test[['Total']])\n",
    "print(\"Residual sum of squares: %.2f\"\n",
    "      % np.mean((y_hat - y) ** 2))\n",
    "\n",
    "# Explained variance score: 1 is perfect prediction\n",
    "print('Variance score: %.2f' % lm.score(x, y))"
   ]
  },
  {
   "cell_type": "markdown",
   "metadata": {},
   "source": [
    "### Multiple Linear Regression"
   ]
  },
  {
   "cell_type": "code",
   "execution_count": 34,
   "metadata": {},
   "outputs": [
    {
     "name": "stdout",
     "output_type": "stream",
     "text": [
      "Coefficients:  [[-1.3322705   0.58123357  0.14469592]]\n",
      "Intercept:  [92.71166814]\n"
     ]
    }
   ],
   "source": [
    "mlm = linear_model.LinearRegression()\n",
    "x = np.asanyarray(train[['day_of_week','month_of_year','day_of_month']])\n",
    "y = np.asanyarray(train[['Total']])\n",
    "mlm.fit (x, y)\n",
    "# The coefficients\n",
    "print('Coefficients: ', mlm.coef_)\n",
    "print('Intercept: ',mlm.intercept_)"
   ]
  },
  {
   "cell_type": "code",
   "execution_count": 35,
   "metadata": {},
   "outputs": [
    {
     "name": "stdout",
     "output_type": "stream",
     "text": [
      "Residual sum of squares: 1080.51\n",
      "Variance score: -0.01\n"
     ]
    }
   ],
   "source": [
    "y_hat= mlm.predict(test[['day_of_week','month_of_year','day_of_month']])\n",
    "x = np.asanyarray(test[['day_of_week','month_of_year','day_of_month']])\n",
    "y = np.asanyarray(test[['Total']])\n",
    "print(\"Residual sum of squares: %.2f\"\n",
    "      % np.mean((y_hat - y) ** 2))\n",
    "\n",
    "# Explained variance score: 1 is perfect prediction\n",
    "print('Variance score: %.2f' % mlm.score(x, y))"
   ]
  },
  {
   "cell_type": "markdown",
   "metadata": {},
   "source": [
    "### Polynomial Regression"
   ]
  },
  {
   "cell_type": "code",
   "execution_count": 36,
   "metadata": {},
   "outputs": [],
   "source": [
    "def PlotPolly(model, independent_variable, dependent_variabble, Name):\n",
    "    x_new = np.linspace(0, len(df), len(df))\n",
    "    y_new = model(x_new)\n",
    "\n",
    "    plt.plot(independent_variable, dependent_variabble, '.', x_new, y_new, '-')\n",
    "    plt.title('Polynomial Fit with Matplotlib for Price ~ Length')\n",
    "    ax = plt.gca()\n",
    "    ax.set_facecolor((0.898, 0.898, 0.898))\n",
    "    fig = plt.gcf()\n",
    "    plt.xlabel(Name)\n",
    "    plt.ylabel('Price of Cars')\n",
    "\n",
    "    plt.show()\n",
    "    plt.close()"
   ]
  },
  {
   "cell_type": "code",
   "execution_count": 37,
   "metadata": {},
   "outputs": [],
   "source": [
    "x = train['Count']\n",
    "y = train['Total']"
   ]
  },
  {
   "cell_type": "code",
   "execution_count": 38,
   "metadata": {},
   "outputs": [
    {
     "name": "stdout",
     "output_type": "stream",
     "text": [
      "            28             27             26             25\n",
      "-5.205e-78 x  + 3.992e-74 x  - 1.043e-70 x  + 6.091e-68 x \n",
      "              24             23             22             21\n",
      " + 1.515e-64 x  - 1.001e-61 x  - 3.156e-58 x  + 3.998e-56 x \n",
      "              20             19             18             17\n",
      " + 6.466e-52 x  + 3.181e-49 x  - 1.128e-45 x  - 1.304e-42 x \n",
      "              16             15             14             13\n",
      " + 1.727e-39 x  + 3.407e-36 x  - 3.005e-33 x  - 7.318e-30 x \n",
      "              12             11             10             9\n",
      " + 8.784e-27 x  + 1.012e-23 x  - 3.129e-20 x  + 3.437e-17 x\n",
      "              8            7             6             5             4\n",
      " - 2.234e-14 x + 9.52e-12 x - 2.729e-09 x + 5.224e-07 x - 6.444e-05 x\n",
      "             3          2\n",
      " + 0.004751 x - 0.1802 x + 3.015 x + 49.11\n"
     ]
    },
    {
     "name": "stderr",
     "output_type": "stream",
     "text": [
      "C:\\Users\\bpver\\anaconda3\\lib\\site-packages\\IPython\\core\\interactiveshell.py:3343: RankWarning: Polyfit may be poorly conditioned\n",
      "  exec(code_obj, self.user_global_ns, self.user_ns)\n"
     ]
    }
   ],
   "source": [
    "f = np.polyfit(x, y, 28)\n",
    "p = np.poly1d(f)\n",
    "print(p)"
   ]
  },
  {
   "cell_type": "code",
   "execution_count": 39,
   "metadata": {},
   "outputs": [
    {
     "data": {
      "image/png": "[encoded data removed]",
      "text/plain": [
       "<Figure size 432x288 with 1 Axes>"
      ]
     },
     "metadata": {
      "needs_background": "light"
     },
     "output_type": "display_data"
    }
   ],
   "source": [
    "PlotPolly(p,x,y,'Day Count')"
   ]
  },
  {
   "cell_type": "code",
   "execution_count": 40,
   "metadata": {},
   "outputs": [
    {
     "data": {
      "text/plain": [
       "0.736237578442641"
      ]
     },
     "execution_count": 40,
     "metadata": {},
     "output_type": "execute_result"
    }
   ],
   "source": [
    "from sklearn.metrics import r2_score as r2\n",
    "\n",
    "# r2 for training data\n",
    "r_squared=r2(y,p(x))\n",
    "r_squared"
   ]
  },
  {
   "cell_type": "code",
   "execution_count": 41,
   "metadata": {},
   "outputs": [
    {
     "data": {
      "text/plain": [
       "0.7269176419191287"
      ]
     },
     "execution_count": 41,
     "metadata": {},
     "output_type": "execute_result"
    }
   ],
   "source": [
    "# Checking r2 for test data\n",
    "X=test['Count']\n",
    "Y=test['Total']\n",
    "r_squared=r2(Y,p(X))\n",
    "r_squared"
   ]
  },
  {
   "cell_type": "markdown",
   "metadata": {},
   "source": [
    "### Decision Tree"
   ]
  },
  {
   "cell_type": "code",
   "execution_count": 42,
   "metadata": {},
   "outputs": [],
   "source": [
    "v=[]\n",
    "\n",
    "for i in range(0,len(df1)):\n",
    "    x=df1['date'][i].year\n",
    "    v.append(x)\n",
    "    \n",
    "df1['year']=v"
   ]
  },
  {
   "cell_type": "code",
   "execution_count": 43,
   "metadata": {},
   "outputs": [
    {
     "data": {
      "text/html": [
       "<div>\n",
       "<style scoped>\n",
       "    .dataframe tbody tr th:only-of-type {\n",
       "        vertical-align: middle;\n",
       "    }\n",
       "\n",
       "    .dataframe tbody tr th {\n",
       "        vertical-align: top;\n",
       "    }\n",
       "\n",
       "    .dataframe thead th {\n",
       "        text-align: right;\n",
       "    }\n",
       "</style>\n",
       "<table border=\"1\" class=\"dataframe\">\n",
       "  <thead>\n",
       "    <tr style=\"text-align: right;\">\n",
       "      <th></th>\n",
       "      <th>date</th>\n",
       "      <th>portname</th>\n",
       "      <th>country</th>\n",
       "      <th>passenger</th>\n",
       "      <th>cargo</th>\n",
       "      <th>tanker</th>\n",
       "      <th>pleasureCraft</th>\n",
       "      <th>fishing</th>\n",
       "      <th>tug</th>\n",
       "      <th>other</th>\n",
       "      <th>latitude</th>\n",
       "      <th>longitude</th>\n",
       "      <th>day_of_month</th>\n",
       "      <th>day_of_week</th>\n",
       "      <th>month_of_year</th>\n",
       "      <th>Total</th>\n",
       "      <th>year</th>\n",
       "    </tr>\n",
       "  </thead>\n",
       "  <tbody>\n",
       "    <tr>\n",
       "      <th>0</th>\n",
       "      <td>2017-07-15</td>\n",
       "      <td>MUMBAI</td>\n",
       "      <td>India</td>\n",
       "      <td>0</td>\n",
       "      <td>8</td>\n",
       "      <td>13</td>\n",
       "      <td>0</td>\n",
       "      <td>0</td>\n",
       "      <td>5</td>\n",
       "      <td>34</td>\n",
       "      <td>18.9483</td>\n",
       "      <td>72.8442</td>\n",
       "      <td>15</td>\n",
       "      <td>6</td>\n",
       "      <td>7</td>\n",
       "      <td>60</td>\n",
       "      <td>2017</td>\n",
       "    </tr>\n",
       "    <tr>\n",
       "      <th>1</th>\n",
       "      <td>2017-07-15</td>\n",
       "      <td>KAKINADA</td>\n",
       "      <td>India</td>\n",
       "      <td>0</td>\n",
       "      <td>1</td>\n",
       "      <td>0</td>\n",
       "      <td>0</td>\n",
       "      <td>0</td>\n",
       "      <td>0</td>\n",
       "      <td>7</td>\n",
       "      <td>16.9313</td>\n",
       "      <td>82.3058</td>\n",
       "      <td>15</td>\n",
       "      <td>6</td>\n",
       "      <td>7</td>\n",
       "      <td>8</td>\n",
       "      <td>2017</td>\n",
       "    </tr>\n",
       "    <tr>\n",
       "      <th>2</th>\n",
       "      <td>2017-07-15</td>\n",
       "      <td>KOLKATA ANCH</td>\n",
       "      <td>India</td>\n",
       "      <td>0</td>\n",
       "      <td>6</td>\n",
       "      <td>2</td>\n",
       "      <td>0</td>\n",
       "      <td>0</td>\n",
       "      <td>0</td>\n",
       "      <td>0</td>\n",
       "      <td>20.9870</td>\n",
       "      <td>88.0019</td>\n",
       "      <td>15</td>\n",
       "      <td>6</td>\n",
       "      <td>7</td>\n",
       "      <td>8</td>\n",
       "      <td>2017</td>\n",
       "    </tr>\n",
       "    <tr>\n",
       "      <th>3</th>\n",
       "      <td>2017-07-15</td>\n",
       "      <td>KATTUPALLI</td>\n",
       "      <td>India</td>\n",
       "      <td>0</td>\n",
       "      <td>0</td>\n",
       "      <td>0</td>\n",
       "      <td>0</td>\n",
       "      <td>0</td>\n",
       "      <td>0</td>\n",
       "      <td>2</td>\n",
       "      <td>13.3047</td>\n",
       "      <td>80.3561</td>\n",
       "      <td>15</td>\n",
       "      <td>6</td>\n",
       "      <td>7</td>\n",
       "      <td>2</td>\n",
       "      <td>2017</td>\n",
       "    </tr>\n",
       "    <tr>\n",
       "      <th>4</th>\n",
       "      <td>2017-07-15</td>\n",
       "      <td>PANAJI</td>\n",
       "      <td>India</td>\n",
       "      <td>0</td>\n",
       "      <td>0</td>\n",
       "      <td>0</td>\n",
       "      <td>0</td>\n",
       "      <td>0</td>\n",
       "      <td>0</td>\n",
       "      <td>2</td>\n",
       "      <td>15.4826</td>\n",
       "      <td>73.7996</td>\n",
       "      <td>15</td>\n",
       "      <td>6</td>\n",
       "      <td>7</td>\n",
       "      <td>2</td>\n",
       "      <td>2017</td>\n",
       "    </tr>\n",
       "  </tbody>\n",
       "</table>\n",
       "</div>"
      ],
      "text/plain": [
       "        date      portname country  passenger  cargo  tanker  pleasureCraft  \\\n",
       "0 2017-07-15        MUMBAI   India          0      8      13              0   \n",
       "1 2017-07-15      KAKINADA   India          0      1       0              0   \n",
       "2 2017-07-15  KOLKATA ANCH   India          0      6       2              0   \n",
       "3 2017-07-15    KATTUPALLI   India          0      0       0              0   \n",
       "4 2017-07-15        PANAJI   India          0      0       0              0   \n",
       "\n",
       "   fishing  tug  other  latitude  longitude  day_of_month  day_of_week  \\\n",
       "0        0    5     34   18.9483    72.8442            15            6   \n",
       "1        0    0      7   16.9313    82.3058            15            6   \n",
       "2        0    0      0   20.9870    88.0019            15            6   \n",
       "3        0    0      2   13.3047    80.3561            15            6   \n",
       "4        0    0      2   15.4826    73.7996            15            6   \n",
       "\n",
       "   month_of_year  Total  year  \n",
       "0              7     60  2017  \n",
       "1              7      8  2017  \n",
       "2              7      8  2017  \n",
       "3              7      2  2017  \n",
       "4              7      2  2017  "
      ]
     },
     "execution_count": 43,
     "metadata": {},
     "output_type": "execute_result"
    }
   ],
   "source": [
    "df1.head()"
   ]
  },
  {
   "cell_type": "code",
   "execution_count": 44,
   "metadata": {},
   "outputs": [
    {
     "data": {
      "text/html": [
       "<div>\n",
       "<style scoped>\n",
       "    .dataframe tbody tr th:only-of-type {\n",
       "        vertical-align: middle;\n",
       "    }\n",
       "\n",
       "    .dataframe tbody tr th {\n",
       "        vertical-align: top;\n",
       "    }\n",
       "\n",
       "    .dataframe thead th {\n",
       "        text-align: right;\n",
       "    }\n",
       "</style>\n",
       "<table border=\"1\" class=\"dataframe\">\n",
       "  <thead>\n",
       "    <tr style=\"text-align: right;\">\n",
       "      <th></th>\n",
       "      <th>PortName</th>\n",
       "      <th>Latitude</th>\n",
       "      <th>Longitude</th>\n",
       "      <th>Coast</th>\n",
       "      <th>Size</th>\n",
       "      <th>color</th>\n",
       "    </tr>\n",
       "  </thead>\n",
       "  <tbody>\n",
       "    <tr>\n",
       "      <th>0</th>\n",
       "      <td>BADAPUTI</td>\n",
       "      <td>19.3039</td>\n",
       "      <td>84.9655</td>\n",
       "      <td>Eastern</td>\n",
       "      <td>Small</td>\n",
       "      <td>icon2.png</td>\n",
       "    </tr>\n",
       "    <tr>\n",
       "      <th>1</th>\n",
       "      <td>BEYPORE</td>\n",
       "      <td>11.1736</td>\n",
       "      <td>75.8040</td>\n",
       "      <td>Western</td>\n",
       "      <td>Very Small</td>\n",
       "      <td>icon1.png</td>\n",
       "    </tr>\n",
       "    <tr>\n",
       "      <th>2</th>\n",
       "      <td>BHARATI SHIPYARD</td>\n",
       "      <td>17.0405</td>\n",
       "      <td>73.2863</td>\n",
       "      <td>Western</td>\n",
       "      <td>Very Small</td>\n",
       "      <td>icon1.png</td>\n",
       "    </tr>\n",
       "    <tr>\n",
       "      <th>3</th>\n",
       "      <td>BHAVNAGAR</td>\n",
       "      <td>21.8029</td>\n",
       "      <td>72.1157</td>\n",
       "      <td>Western</td>\n",
       "      <td>Very Small</td>\n",
       "      <td>icon1.png</td>\n",
       "    </tr>\n",
       "    <tr>\n",
       "      <th>4</th>\n",
       "      <td>BHAVNAGAR NEW PORT</td>\n",
       "      <td>21.7609</td>\n",
       "      <td>72.2334</td>\n",
       "      <td>Western</td>\n",
       "      <td>Very Small</td>\n",
       "      <td>icon1.png</td>\n",
       "    </tr>\n",
       "  </tbody>\n",
       "</table>\n",
       "</div>"
      ],
      "text/plain": [
       "             PortName  Latitude  Longitude    Coast        Size      color\n",
       "0            BADAPUTI   19.3039    84.9655  Eastern       Small  icon2.png\n",
       "1             BEYPORE   11.1736    75.8040  Western  Very Small  icon1.png\n",
       "2    BHARATI SHIPYARD   17.0405    73.2863  Western  Very Small  icon1.png\n",
       "3           BHAVNAGAR   21.8029    72.1157  Western  Very Small  icon1.png\n",
       "4  BHAVNAGAR NEW PORT   21.7609    72.2334  Western  Very Small  icon1.png"
      ]
     },
     "execution_count": 44,
     "metadata": {},
     "output_type": "execute_result"
    }
   ],
   "source": [
    "df2.head()"
   ]
  },
  {
   "cell_type": "code",
   "execution_count": 45,
   "metadata": {},
   "outputs": [],
   "source": [
    "v=[]\n",
    "\n",
    "for i in range(0,len(df1)):\n",
    "    x=df1['portname'][i]\n",
    "    val=0\n",
    "    for j in range(0,len(df2)):\n",
    "        y=df2['PortName'][j]\n",
    "        if x==y:\n",
    "            val=df2['Size'][j]\n",
    "    v.append(val)\n",
    "        \n",
    "df1['portSize']=v"
   ]
  },
  {
   "cell_type": "code",
   "execution_count": 46,
   "metadata": {},
   "outputs": [
    {
     "name": "stdout",
     "output_type": "stream",
     "text": [
      "75768 75768\n"
     ]
    }
   ],
   "source": [
    "print(len(df1),len(v))"
   ]
  },
  {
   "cell_type": "code",
   "execution_count": 47,
   "metadata": {},
   "outputs": [
    {
     "data": {
      "text/html": [
       "<div>\n",
       "<style scoped>\n",
       "    .dataframe tbody tr th:only-of-type {\n",
       "        vertical-align: middle;\n",
       "    }\n",
       "\n",
       "    .dataframe tbody tr th {\n",
       "        vertical-align: top;\n",
       "    }\n",
       "\n",
       "    .dataframe thead th {\n",
       "        text-align: right;\n",
       "    }\n",
       "</style>\n",
       "<table border=\"1\" class=\"dataframe\">\n",
       "  <thead>\n",
       "    <tr style=\"text-align: right;\">\n",
       "      <th></th>\n",
       "      <th>date</th>\n",
       "      <th>portname</th>\n",
       "      <th>country</th>\n",
       "      <th>passenger</th>\n",
       "      <th>cargo</th>\n",
       "      <th>tanker</th>\n",
       "      <th>pleasureCraft</th>\n",
       "      <th>fishing</th>\n",
       "      <th>tug</th>\n",
       "      <th>other</th>\n",
       "      <th>latitude</th>\n",
       "      <th>longitude</th>\n",
       "      <th>day_of_month</th>\n",
       "      <th>day_of_week</th>\n",
       "      <th>month_of_year</th>\n",
       "      <th>Total</th>\n",
       "      <th>year</th>\n",
       "      <th>portSize</th>\n",
       "    </tr>\n",
       "  </thead>\n",
       "  <tbody>\n",
       "    <tr>\n",
       "      <th>0</th>\n",
       "      <td>2017-07-15</td>\n",
       "      <td>MUMBAI</td>\n",
       "      <td>India</td>\n",
       "      <td>0</td>\n",
       "      <td>8</td>\n",
       "      <td>13</td>\n",
       "      <td>0</td>\n",
       "      <td>0</td>\n",
       "      <td>5</td>\n",
       "      <td>34</td>\n",
       "      <td>18.9483</td>\n",
       "      <td>72.8442</td>\n",
       "      <td>15</td>\n",
       "      <td>6</td>\n",
       "      <td>7</td>\n",
       "      <td>60</td>\n",
       "      <td>2017</td>\n",
       "      <td>Large</td>\n",
       "    </tr>\n",
       "    <tr>\n",
       "      <th>1</th>\n",
       "      <td>2017-07-15</td>\n",
       "      <td>KAKINADA</td>\n",
       "      <td>India</td>\n",
       "      <td>0</td>\n",
       "      <td>1</td>\n",
       "      <td>0</td>\n",
       "      <td>0</td>\n",
       "      <td>0</td>\n",
       "      <td>0</td>\n",
       "      <td>7</td>\n",
       "      <td>16.9313</td>\n",
       "      <td>82.3058</td>\n",
       "      <td>15</td>\n",
       "      <td>6</td>\n",
       "      <td>7</td>\n",
       "      <td>8</td>\n",
       "      <td>2017</td>\n",
       "      <td>Medium</td>\n",
       "    </tr>\n",
       "    <tr>\n",
       "      <th>2</th>\n",
       "      <td>2017-07-15</td>\n",
       "      <td>KOLKATA ANCH</td>\n",
       "      <td>India</td>\n",
       "      <td>0</td>\n",
       "      <td>6</td>\n",
       "      <td>2</td>\n",
       "      <td>0</td>\n",
       "      <td>0</td>\n",
       "      <td>0</td>\n",
       "      <td>0</td>\n",
       "      <td>20.9870</td>\n",
       "      <td>88.0019</td>\n",
       "      <td>15</td>\n",
       "      <td>6</td>\n",
       "      <td>7</td>\n",
       "      <td>8</td>\n",
       "      <td>2017</td>\n",
       "      <td>Large</td>\n",
       "    </tr>\n",
       "    <tr>\n",
       "      <th>3</th>\n",
       "      <td>2017-07-15</td>\n",
       "      <td>KATTUPALLI</td>\n",
       "      <td>India</td>\n",
       "      <td>0</td>\n",
       "      <td>0</td>\n",
       "      <td>0</td>\n",
       "      <td>0</td>\n",
       "      <td>0</td>\n",
       "      <td>0</td>\n",
       "      <td>2</td>\n",
       "      <td>13.3047</td>\n",
       "      <td>80.3561</td>\n",
       "      <td>15</td>\n",
       "      <td>6</td>\n",
       "      <td>7</td>\n",
       "      <td>2</td>\n",
       "      <td>2017</td>\n",
       "      <td>Very Small</td>\n",
       "    </tr>\n",
       "    <tr>\n",
       "      <th>4</th>\n",
       "      <td>2017-07-15</td>\n",
       "      <td>PANAJI</td>\n",
       "      <td>India</td>\n",
       "      <td>0</td>\n",
       "      <td>0</td>\n",
       "      <td>0</td>\n",
       "      <td>0</td>\n",
       "      <td>0</td>\n",
       "      <td>0</td>\n",
       "      <td>2</td>\n",
       "      <td>15.4826</td>\n",
       "      <td>73.7996</td>\n",
       "      <td>15</td>\n",
       "      <td>6</td>\n",
       "      <td>7</td>\n",
       "      <td>2</td>\n",
       "      <td>2017</td>\n",
       "      <td>Small</td>\n",
       "    </tr>\n",
       "  </tbody>\n",
       "</table>\n",
       "</div>"
      ],
      "text/plain": [
       "        date      portname country  passenger  cargo  tanker  pleasureCraft  \\\n",
       "0 2017-07-15        MUMBAI   India          0      8      13              0   \n",
       "1 2017-07-15      KAKINADA   India          0      1       0              0   \n",
       "2 2017-07-15  KOLKATA ANCH   India          0      6       2              0   \n",
       "3 2017-07-15    KATTUPALLI   India          0      0       0              0   \n",
       "4 2017-07-15        PANAJI   India          0      0       0              0   \n",
       "\n",
       "   fishing  tug  other  latitude  longitude  day_of_month  day_of_week  \\\n",
       "0        0    5     34   18.9483    72.8442            15            6   \n",
       "1        0    0      7   16.9313    82.3058            15            6   \n",
       "2        0    0      0   20.9870    88.0019            15            6   \n",
       "3        0    0      2   13.3047    80.3561            15            6   \n",
       "4        0    0      2   15.4826    73.7996            15            6   \n",
       "\n",
       "   month_of_year  Total  year    portSize  \n",
       "0              7     60  2017       Large  \n",
       "1              7      8  2017      Medium  \n",
       "2              7      8  2017       Large  \n",
       "3              7      2  2017  Very Small  \n",
       "4              7      2  2017       Small  "
      ]
     },
     "execution_count": 47,
     "metadata": {},
     "output_type": "execute_result"
    }
   ],
   "source": [
    "df1.head()"
   ]
  },
  {
   "cell_type": "code",
   "execution_count": 48,
   "metadata": {},
   "outputs": [
    {
     "data": {
      "text/plain": [
       "Medium        21146\n",
       "Small         19887\n",
       "Large         18555\n",
       "Very Small    16180\n",
       "Name: portSize, dtype: int64"
      ]
     },
     "execution_count": 48,
     "metadata": {},
     "output_type": "execute_result"
    }
   ],
   "source": [
    "df1['portSize'].value_counts()"
   ]
  },
  {
   "cell_type": "code",
   "execution_count": 49,
   "metadata": {},
   "outputs": [],
   "source": [
    "size_list=['Very Small','Small','Medium','Large','Very Large']\n",
    "size_marker=[1,2,3,4,5]"
   ]
  },
  {
   "cell_type": "code",
   "execution_count": 50,
   "metadata": {},
   "outputs": [],
   "source": [
    "v=[]\n",
    "\n",
    "for i in range(0,len(df1)):\n",
    "    x=df1['portSize'][i]\n",
    "    for j in range(0,len(size_list)):\n",
    "        y=size_list[j]\n",
    "        if x==y:\n",
    "            val=size_marker[j]\n",
    "    v.append(val)\n",
    "\n",
    "df1['size_mark']=v"
   ]
  },
  {
   "cell_type": "code",
   "execution_count": 51,
   "metadata": {},
   "outputs": [
    {
     "data": {
      "text/html": [
       "<div>\n",
       "<style scoped>\n",
       "    .dataframe tbody tr th:only-of-type {\n",
       "        vertical-align: middle;\n",
       "    }\n",
       "\n",
       "    .dataframe tbody tr th {\n",
       "        vertical-align: top;\n",
       "    }\n",
       "\n",
       "    .dataframe thead th {\n",
       "        text-align: right;\n",
       "    }\n",
       "</style>\n",
       "<table border=\"1\" class=\"dataframe\">\n",
       "  <thead>\n",
       "    <tr style=\"text-align: right;\">\n",
       "      <th></th>\n",
       "      <th>date</th>\n",
       "      <th>portname</th>\n",
       "      <th>country</th>\n",
       "      <th>passenger</th>\n",
       "      <th>cargo</th>\n",
       "      <th>tanker</th>\n",
       "      <th>pleasureCraft</th>\n",
       "      <th>fishing</th>\n",
       "      <th>tug</th>\n",
       "      <th>other</th>\n",
       "      <th>latitude</th>\n",
       "      <th>longitude</th>\n",
       "      <th>day_of_month</th>\n",
       "      <th>day_of_week</th>\n",
       "      <th>month_of_year</th>\n",
       "      <th>Total</th>\n",
       "      <th>year</th>\n",
       "      <th>portSize</th>\n",
       "      <th>size_mark</th>\n",
       "    </tr>\n",
       "  </thead>\n",
       "  <tbody>\n",
       "    <tr>\n",
       "      <th>0</th>\n",
       "      <td>2017-07-15</td>\n",
       "      <td>MUMBAI</td>\n",
       "      <td>India</td>\n",
       "      <td>0</td>\n",
       "      <td>8</td>\n",
       "      <td>13</td>\n",
       "      <td>0</td>\n",
       "      <td>0</td>\n",
       "      <td>5</td>\n",
       "      <td>34</td>\n",
       "      <td>18.9483</td>\n",
       "      <td>72.8442</td>\n",
       "      <td>15</td>\n",
       "      <td>6</td>\n",
       "      <td>7</td>\n",
       "      <td>60</td>\n",
       "      <td>2017</td>\n",
       "      <td>Large</td>\n",
       "      <td>4</td>\n",
       "    </tr>\n",
       "    <tr>\n",
       "      <th>1</th>\n",
       "      <td>2017-07-15</td>\n",
       "      <td>KAKINADA</td>\n",
       "      <td>India</td>\n",
       "      <td>0</td>\n",
       "      <td>1</td>\n",
       "      <td>0</td>\n",
       "      <td>0</td>\n",
       "      <td>0</td>\n",
       "      <td>0</td>\n",
       "      <td>7</td>\n",
       "      <td>16.9313</td>\n",
       "      <td>82.3058</td>\n",
       "      <td>15</td>\n",
       "      <td>6</td>\n",
       "      <td>7</td>\n",
       "      <td>8</td>\n",
       "      <td>2017</td>\n",
       "      <td>Medium</td>\n",
       "      <td>3</td>\n",
       "    </tr>\n",
       "    <tr>\n",
       "      <th>2</th>\n",
       "      <td>2017-07-15</td>\n",
       "      <td>KOLKATA ANCH</td>\n",
       "      <td>India</td>\n",
       "      <td>0</td>\n",
       "      <td>6</td>\n",
       "      <td>2</td>\n",
       "      <td>0</td>\n",
       "      <td>0</td>\n",
       "      <td>0</td>\n",
       "      <td>0</td>\n",
       "      <td>20.9870</td>\n",
       "      <td>88.0019</td>\n",
       "      <td>15</td>\n",
       "      <td>6</td>\n",
       "      <td>7</td>\n",
       "      <td>8</td>\n",
       "      <td>2017</td>\n",
       "      <td>Large</td>\n",
       "      <td>4</td>\n",
       "    </tr>\n",
       "    <tr>\n",
       "      <th>3</th>\n",
       "      <td>2017-07-15</td>\n",
       "      <td>KATTUPALLI</td>\n",
       "      <td>India</td>\n",
       "      <td>0</td>\n",
       "      <td>0</td>\n",
       "      <td>0</td>\n",
       "      <td>0</td>\n",
       "      <td>0</td>\n",
       "      <td>0</td>\n",
       "      <td>2</td>\n",
       "      <td>13.3047</td>\n",
       "      <td>80.3561</td>\n",
       "      <td>15</td>\n",
       "      <td>6</td>\n",
       "      <td>7</td>\n",
       "      <td>2</td>\n",
       "      <td>2017</td>\n",
       "      <td>Very Small</td>\n",
       "      <td>1</td>\n",
       "    </tr>\n",
       "    <tr>\n",
       "      <th>4</th>\n",
       "      <td>2017-07-15</td>\n",
       "      <td>PANAJI</td>\n",
       "      <td>India</td>\n",
       "      <td>0</td>\n",
       "      <td>0</td>\n",
       "      <td>0</td>\n",
       "      <td>0</td>\n",
       "      <td>0</td>\n",
       "      <td>0</td>\n",
       "      <td>2</td>\n",
       "      <td>15.4826</td>\n",
       "      <td>73.7996</td>\n",
       "      <td>15</td>\n",
       "      <td>6</td>\n",
       "      <td>7</td>\n",
       "      <td>2</td>\n",
       "      <td>2017</td>\n",
       "      <td>Small</td>\n",
       "      <td>2</td>\n",
       "    </tr>\n",
       "  </tbody>\n",
       "</table>\n",
       "</div>"
      ],
      "text/plain": [
       "        date      portname country  passenger  cargo  tanker  pleasureCraft  \\\n",
       "0 2017-07-15        MUMBAI   India          0      8      13              0   \n",
       "1 2017-07-15      KAKINADA   India          0      1       0              0   \n",
       "2 2017-07-15  KOLKATA ANCH   India          0      6       2              0   \n",
       "3 2017-07-15    KATTUPALLI   India          0      0       0              0   \n",
       "4 2017-07-15        PANAJI   India          0      0       0              0   \n",
       "\n",
       "   fishing  tug  other  latitude  longitude  day_of_month  day_of_week  \\\n",
       "0        0    5     34   18.9483    72.8442            15            6   \n",
       "1        0    0      7   16.9313    82.3058            15            6   \n",
       "2        0    0      0   20.9870    88.0019            15            6   \n",
       "3        0    0      2   13.3047    80.3561            15            6   \n",
       "4        0    0      2   15.4826    73.7996            15            6   \n",
       "\n",
       "   month_of_year  Total  year    portSize  size_mark  \n",
       "0              7     60  2017       Large          4  \n",
       "1              7      8  2017      Medium          3  \n",
       "2              7      8  2017       Large          4  \n",
       "3              7      2  2017  Very Small          1  \n",
       "4              7      2  2017       Small          2  "
      ]
     },
     "execution_count": 51,
     "metadata": {},
     "output_type": "execute_result"
    }
   ],
   "source": [
    "df1.head()"
   ]
  },
  {
   "cell_type": "code",
   "execution_count": 52,
   "metadata": {},
   "outputs": [],
   "source": [
    "from sklearn.metrics import accuracy_score as score"
   ]
  },
  {
   "cell_type": "code",
   "execution_count": 53,
   "metadata": {},
   "outputs": [],
   "source": [
    "df_tot=df1[['latitude','longitude','size_mark','day_of_month','month_of_year','day_of_week','Total']]"
   ]
  },
  {
   "cell_type": "code",
   "execution_count": 54,
   "metadata": {},
   "outputs": [
    {
     "data": {
      "text/html": [
       "<div>\n",
       "<style scoped>\n",
       "    .dataframe tbody tr th:only-of-type {\n",
       "        vertical-align: middle;\n",
       "    }\n",
       "\n",
       "    .dataframe tbody tr th {\n",
       "        vertical-align: top;\n",
       "    }\n",
       "\n",
       "    .dataframe thead th {\n",
       "        text-align: right;\n",
       "    }\n",
       "</style>\n",
       "<table border=\"1\" class=\"dataframe\">\n",
       "  <thead>\n",
       "    <tr style=\"text-align: right;\">\n",
       "      <th></th>\n",
       "      <th>latitude</th>\n",
       "      <th>longitude</th>\n",
       "      <th>size_mark</th>\n",
       "      <th>day_of_month</th>\n",
       "      <th>month_of_year</th>\n",
       "      <th>day_of_week</th>\n",
       "      <th>Total</th>\n",
       "    </tr>\n",
       "  </thead>\n",
       "  <tbody>\n",
       "    <tr>\n",
       "      <th>0</th>\n",
       "      <td>18.9483</td>\n",
       "      <td>72.8442</td>\n",
       "      <td>4</td>\n",
       "      <td>15</td>\n",
       "      <td>7</td>\n",
       "      <td>6</td>\n",
       "      <td>60</td>\n",
       "    </tr>\n",
       "    <tr>\n",
       "      <th>1</th>\n",
       "      <td>16.9313</td>\n",
       "      <td>82.3058</td>\n",
       "      <td>3</td>\n",
       "      <td>15</td>\n",
       "      <td>7</td>\n",
       "      <td>6</td>\n",
       "      <td>8</td>\n",
       "    </tr>\n",
       "    <tr>\n",
       "      <th>2</th>\n",
       "      <td>20.9870</td>\n",
       "      <td>88.0019</td>\n",
       "      <td>4</td>\n",
       "      <td>15</td>\n",
       "      <td>7</td>\n",
       "      <td>6</td>\n",
       "      <td>8</td>\n",
       "    </tr>\n",
       "    <tr>\n",
       "      <th>3</th>\n",
       "      <td>13.3047</td>\n",
       "      <td>80.3561</td>\n",
       "      <td>1</td>\n",
       "      <td>15</td>\n",
       "      <td>7</td>\n",
       "      <td>6</td>\n",
       "      <td>2</td>\n",
       "    </tr>\n",
       "    <tr>\n",
       "      <th>4</th>\n",
       "      <td>15.4826</td>\n",
       "      <td>73.7996</td>\n",
       "      <td>2</td>\n",
       "      <td>15</td>\n",
       "      <td>7</td>\n",
       "      <td>6</td>\n",
       "      <td>2</td>\n",
       "    </tr>\n",
       "  </tbody>\n",
       "</table>\n",
       "</div>"
      ],
      "text/plain": [
       "   latitude  longitude  size_mark  day_of_month  month_of_year  day_of_week  \\\n",
       "0   18.9483    72.8442          4            15              7            6   \n",
       "1   16.9313    82.3058          3            15              7            6   \n",
       "2   20.9870    88.0019          4            15              7            6   \n",
       "3   13.3047    80.3561          1            15              7            6   \n",
       "4   15.4826    73.7996          2            15              7            6   \n",
       "\n",
       "   Total  \n",
       "0     60  \n",
       "1      8  \n",
       "2      8  \n",
       "3      2  \n",
       "4      2  "
      ]
     },
     "execution_count": 54,
     "metadata": {},
     "output_type": "execute_result"
    }
   ],
   "source": [
    "df_tot.head()"
   ]
  },
  {
   "cell_type": "code",
   "execution_count": 55,
   "metadata": {},
   "outputs": [
    {
     "data": {
      "text/html": [
       "<div>\n",
       "<style scoped>\n",
       "    .dataframe tbody tr th:only-of-type {\n",
       "        vertical-align: middle;\n",
       "    }\n",
       "\n",
       "    .dataframe tbody tr th {\n",
       "        vertical-align: top;\n",
       "    }\n",
       "\n",
       "    .dataframe thead th {\n",
       "        text-align: right;\n",
       "    }\n",
       "</style>\n",
       "<table border=\"1\" class=\"dataframe\">\n",
       "  <thead>\n",
       "    <tr style=\"text-align: right;\">\n",
       "      <th></th>\n",
       "      <th>latitude</th>\n",
       "      <th>longitude</th>\n",
       "      <th>size_mark</th>\n",
       "      <th>day_of_month</th>\n",
       "      <th>month_of_year</th>\n",
       "      <th>day_of_week</th>\n",
       "      <th>Total</th>\n",
       "    </tr>\n",
       "  </thead>\n",
       "  <tbody>\n",
       "    <tr>\n",
       "      <th>latitude</th>\n",
       "      <td>1.000000</td>\n",
       "      <td>-0.269541</td>\n",
       "      <td>0.000960</td>\n",
       "      <td>-0.000153</td>\n",
       "      <td>-0.000577</td>\n",
       "      <td>0.001759</td>\n",
       "      <td>0.099653</td>\n",
       "    </tr>\n",
       "    <tr>\n",
       "      <th>longitude</th>\n",
       "      <td>-0.269541</td>\n",
       "      <td>1.000000</td>\n",
       "      <td>0.109047</td>\n",
       "      <td>0.000701</td>\n",
       "      <td>-0.000777</td>\n",
       "      <td>0.000706</td>\n",
       "      <td>-0.176957</td>\n",
       "    </tr>\n",
       "    <tr>\n",
       "      <th>size_mark</th>\n",
       "      <td>0.000960</td>\n",
       "      <td>0.109047</td>\n",
       "      <td>1.000000</td>\n",
       "      <td>-0.003667</td>\n",
       "      <td>0.001441</td>\n",
       "      <td>0.000758</td>\n",
       "      <td>0.359024</td>\n",
       "    </tr>\n",
       "    <tr>\n",
       "      <th>day_of_month</th>\n",
       "      <td>-0.000153</td>\n",
       "      <td>0.000701</td>\n",
       "      <td>-0.003667</td>\n",
       "      <td>1.000000</td>\n",
       "      <td>0.016409</td>\n",
       "      <td>0.000594</td>\n",
       "      <td>0.002368</td>\n",
       "    </tr>\n",
       "    <tr>\n",
       "      <th>month_of_year</th>\n",
       "      <td>-0.000577</td>\n",
       "      <td>-0.000777</td>\n",
       "      <td>0.001441</td>\n",
       "      <td>0.016409</td>\n",
       "      <td>1.000000</td>\n",
       "      <td>0.002340</td>\n",
       "      <td>-0.013767</td>\n",
       "    </tr>\n",
       "    <tr>\n",
       "      <th>day_of_week</th>\n",
       "      <td>0.001759</td>\n",
       "      <td>0.000706</td>\n",
       "      <td>0.000758</td>\n",
       "      <td>0.000594</td>\n",
       "      <td>0.002340</td>\n",
       "      <td>1.000000</td>\n",
       "      <td>-0.007875</td>\n",
       "    </tr>\n",
       "    <tr>\n",
       "      <th>Total</th>\n",
       "      <td>0.099653</td>\n",
       "      <td>-0.176957</td>\n",
       "      <td>0.359024</td>\n",
       "      <td>0.002368</td>\n",
       "      <td>-0.013767</td>\n",
       "      <td>-0.007875</td>\n",
       "      <td>1.000000</td>\n",
       "    </tr>\n",
       "  </tbody>\n",
       "</table>\n",
       "</div>"
      ],
      "text/plain": [
       "               latitude  longitude  size_mark  day_of_month  month_of_year  \\\n",
       "latitude       1.000000  -0.269541   0.000960     -0.000153      -0.000577   \n",
       "longitude     -0.269541   1.000000   0.109047      0.000701      -0.000777   \n",
       "size_mark      0.000960   0.109047   1.000000     -0.003667       0.001441   \n",
       "day_of_month  -0.000153   0.000701  -0.003667      1.000000       0.016409   \n",
       "month_of_year -0.000577  -0.000777   0.001441      0.016409       1.000000   \n",
       "day_of_week    0.001759   0.000706   0.000758      0.000594       0.002340   \n",
       "Total          0.099653  -0.176957   0.359024      0.002368      -0.013767   \n",
       "\n",
       "               day_of_week     Total  \n",
       "latitude          0.001759  0.099653  \n",
       "longitude         0.000706 -0.176957  \n",
       "size_mark         0.000758  0.359024  \n",
       "day_of_month      0.000594  0.002368  \n",
       "month_of_year     0.002340 -0.013767  \n",
       "day_of_week       1.000000 -0.007875  \n",
       "Total            -0.007875  1.000000  "
      ]
     },
     "execution_count": 55,
     "metadata": {},
     "output_type": "execute_result"
    }
   ],
   "source": [
    "df_tot.corr()"
   ]
  },
  {
   "cell_type": "code",
   "execution_count": 56,
   "metadata": {},
   "outputs": [],
   "source": [
    "from sklearn.tree import DecisionTreeClassifier\n",
    "from sklearn.model_selection import train_test_split"
   ]
  },
  {
   "cell_type": "code",
   "execution_count": 57,
   "metadata": {},
   "outputs": [],
   "source": [
    "X=np.asarray(df_tot[['latitude','longitude','size_mark','day_of_month','month_of_year','day_of_week']])\n",
    "y=np.asarray(df_tot[['Total']])"
   ]
  },
  {
   "cell_type": "code",
   "execution_count": 58,
   "metadata": {},
   "outputs": [],
   "source": [
    "X_trainset, X_testset, y_trainset, y_testset = train_test_split(X, y, test_size=0.3, random_state=2)"
   ]
  },
  {
   "cell_type": "code",
   "execution_count": 59,
   "metadata": {},
   "outputs": [
    {
     "data": {
      "text/plain": [
       "DecisionTreeClassifier(criterion='entropy', max_depth=5)"
      ]
     },
     "execution_count": 59,
     "metadata": {},
     "output_type": "execute_result"
    }
   ],
   "source": [
    "# Modelling\n",
    "portTree = DecisionTreeClassifier(criterion=\"entropy\", max_depth = 5)\n",
    "portTree"
   ]
  },
  {
   "cell_type": "code",
   "execution_count": 60,
   "metadata": {},
   "outputs": [],
   "source": [
    "portTree.fit(X_trainset,y_trainset)\n",
    "predTree = portTree.predict(X_testset)"
   ]
  },
  {
   "cell_type": "code",
   "execution_count": 61,
   "metadata": {},
   "outputs": [
    {
     "name": "stdout",
     "output_type": "stream",
     "text": [
      "DecisionTrees's Accuracy:  0.16369715366679866\n"
     ]
    }
   ],
   "source": [
    "from sklearn import metrics\n",
    "import matplotlib.pyplot as plt\n",
    "print(\"DecisionTrees's Accuracy: \", metrics.accuracy_score(y_testset, predTree))"
   ]
  },
  {
   "cell_type": "code",
   "execution_count": 62,
   "metadata": {},
   "outputs": [
    {
     "name": "stdout",
     "output_type": "stream",
     "text": [
      "[[17.6959 83.2873  4.     17.      2.      1.    ]\n",
      " [20.1271 86.735   1.     28.      4.      3.    ]]\n",
      "[[19]\n",
      " [10]]\n",
      "[5 9]\n"
     ]
    }
   ],
   "source": [
    "print(X_testset[:2])\n",
    "print(y_testset[:2])\n",
    "print(predTree[:2])"
   ]
  },
  {
   "cell_type": "code",
   "execution_count": 63,
   "metadata": {},
   "outputs": [
    {
     "data": {
      "text/plain": [
       "<matplotlib.axes._subplots.AxesSubplot at 0x1aa987c94c0>"
      ]
     },
     "execution_count": 63,
     "metadata": {},
     "output_type": "execute_result"
    },
    {
     "data": {
      "image/png": "[encoded data removed]",
      "text/plain": [
       "<Figure size 432x288 with 1 Axes>"
      ]
     },
     "metadata": {
      "needs_background": "light"
     },
     "output_type": "display_data"
    }
   ],
   "source": [
    "df_tot['Total'].hist()"
   ]
  },
  {
   "cell_type": "code",
   "execution_count": 64,
   "metadata": {},
   "outputs": [
    {
     "data": {
      "text/plain": [
       "array([  0.,  10.,  20.,  30.,  40.,  50.,  60.,  70.,  80.,  90., 100.,\n",
       "       110., 120., 130., 140., 150., 160., 170., 180., 190., 200., 210.,\n",
       "       220., 230., 240., 250., 260., 270., 280., 290., 300.])"
      ]
     },
     "execution_count": 64,
     "metadata": {},
     "output_type": "execute_result"
    }
   ],
   "source": [
    "bins=np.linspace(0, 300, 31)\n",
    "bins"
   ]
  },
  {
   "cell_type": "code",
   "execution_count": 65,
   "metadata": {},
   "outputs": [
    {
     "data": {
      "text/plain": [
       "array([ 1,  2,  3,  4,  5,  6,  7,  8,  9, 10, 11, 12, 13, 14, 15, 16, 17,\n",
       "       18, 19, 20, 21, 22, 23, 24, 25, 26, 27, 28, 29, 30])"
      ]
     },
     "execution_count": 65,
     "metadata": {},
     "output_type": "execute_result"
    }
   ],
   "source": [
    "val=np.arange(1,31,1)\n",
    "val"
   ]
  },
  {
   "cell_type": "code",
   "execution_count": 66,
   "metadata": {},
   "outputs": [
    {
     "name": "stderr",
     "output_type": "stream",
     "text": [
      "<ipython-input-66-f9c429ffa9f7>:1: SettingWithCopyWarning: \n",
      "A value is trying to be set on a copy of a slice from a DataFrame.\n",
      "Try using .loc[row_indexer,col_indexer] = value instead\n",
      "\n",
      "See the caveats in the documentation: https://pandas.pydata.org/pandas-docs/stable/user_guide/indexing.html#returning-a-view-versus-a-copy\n",
      "  df_tot['Total-binned'] = pd.cut(df_tot['Total'], bins, labels=val, include_lowest=True )\n"
     ]
    },
    {
     "data": {
      "text/html": [
       "<div>\n",
       "<style scoped>\n",
       "    .dataframe tbody tr th:only-of-type {\n",
       "        vertical-align: middle;\n",
       "    }\n",
       "\n",
       "    .dataframe tbody tr th {\n",
       "        vertical-align: top;\n",
       "    }\n",
       "\n",
       "    .dataframe thead th {\n",
       "        text-align: right;\n",
       "    }\n",
       "</style>\n",
       "<table border=\"1\" class=\"dataframe\">\n",
       "  <thead>\n",
       "    <tr style=\"text-align: right;\">\n",
       "      <th></th>\n",
       "      <th>Total</th>\n",
       "      <th>Total-binned</th>\n",
       "    </tr>\n",
       "  </thead>\n",
       "  <tbody>\n",
       "    <tr>\n",
       "      <th>0</th>\n",
       "      <td>60</td>\n",
       "      <td>6</td>\n",
       "    </tr>\n",
       "    <tr>\n",
       "      <th>1</th>\n",
       "      <td>8</td>\n",
       "      <td>1</td>\n",
       "    </tr>\n",
       "    <tr>\n",
       "      <th>2</th>\n",
       "      <td>8</td>\n",
       "      <td>1</td>\n",
       "    </tr>\n",
       "    <tr>\n",
       "      <th>3</th>\n",
       "      <td>2</td>\n",
       "      <td>1</td>\n",
       "    </tr>\n",
       "    <tr>\n",
       "      <th>4</th>\n",
       "      <td>2</td>\n",
       "      <td>1</td>\n",
       "    </tr>\n",
       "    <tr>\n",
       "      <th>5</th>\n",
       "      <td>3</td>\n",
       "      <td>1</td>\n",
       "    </tr>\n",
       "    <tr>\n",
       "      <th>6</th>\n",
       "      <td>9</td>\n",
       "      <td>1</td>\n",
       "    </tr>\n",
       "    <tr>\n",
       "      <th>7</th>\n",
       "      <td>13</td>\n",
       "      <td>2</td>\n",
       "    </tr>\n",
       "    <tr>\n",
       "      <th>8</th>\n",
       "      <td>41</td>\n",
       "      <td>5</td>\n",
       "    </tr>\n",
       "    <tr>\n",
       "      <th>9</th>\n",
       "      <td>3</td>\n",
       "      <td>1</td>\n",
       "    </tr>\n",
       "  </tbody>\n",
       "</table>\n",
       "</div>"
      ],
      "text/plain": [
       "   Total Total-binned\n",
       "0     60            6\n",
       "1      8            1\n",
       "2      8            1\n",
       "3      2            1\n",
       "4      2            1\n",
       "5      3            1\n",
       "6      9            1\n",
       "7     13            2\n",
       "8     41            5\n",
       "9      3            1"
      ]
     },
     "execution_count": 66,
     "metadata": {},
     "output_type": "execute_result"
    }
   ],
   "source": [
    "df_tot['Total-binned'] = pd.cut(df_tot['Total'], bins, labels=val, include_lowest=True )\n",
    "df_tot[['Total','Total-binned']].head(10)"
   ]
  },
  {
   "cell_type": "code",
   "execution_count": 67,
   "metadata": {},
   "outputs": [
    {
     "data": {
      "text/html": [
       "<div>\n",
       "<style scoped>\n",
       "    .dataframe tbody tr th:only-of-type {\n",
       "        vertical-align: middle;\n",
       "    }\n",
       "\n",
       "    .dataframe tbody tr th {\n",
       "        vertical-align: top;\n",
       "    }\n",
       "\n",
       "    .dataframe thead th {\n",
       "        text-align: right;\n",
       "    }\n",
       "</style>\n",
       "<table border=\"1\" class=\"dataframe\">\n",
       "  <thead>\n",
       "    <tr style=\"text-align: right;\">\n",
       "      <th></th>\n",
       "      <th>latitude</th>\n",
       "      <th>longitude</th>\n",
       "      <th>size_mark</th>\n",
       "      <th>day_of_month</th>\n",
       "      <th>month_of_year</th>\n",
       "      <th>day_of_week</th>\n",
       "      <th>Total</th>\n",
       "      <th>Total-binned</th>\n",
       "    </tr>\n",
       "  </thead>\n",
       "  <tbody>\n",
       "    <tr>\n",
       "      <th>0</th>\n",
       "      <td>18.9483</td>\n",
       "      <td>72.8442</td>\n",
       "      <td>4</td>\n",
       "      <td>15</td>\n",
       "      <td>7</td>\n",
       "      <td>6</td>\n",
       "      <td>60</td>\n",
       "      <td>6</td>\n",
       "    </tr>\n",
       "    <tr>\n",
       "      <th>1</th>\n",
       "      <td>16.9313</td>\n",
       "      <td>82.3058</td>\n",
       "      <td>3</td>\n",
       "      <td>15</td>\n",
       "      <td>7</td>\n",
       "      <td>6</td>\n",
       "      <td>8</td>\n",
       "      <td>1</td>\n",
       "    </tr>\n",
       "    <tr>\n",
       "      <th>2</th>\n",
       "      <td>20.9870</td>\n",
       "      <td>88.0019</td>\n",
       "      <td>4</td>\n",
       "      <td>15</td>\n",
       "      <td>7</td>\n",
       "      <td>6</td>\n",
       "      <td>8</td>\n",
       "      <td>1</td>\n",
       "    </tr>\n",
       "    <tr>\n",
       "      <th>3</th>\n",
       "      <td>13.3047</td>\n",
       "      <td>80.3561</td>\n",
       "      <td>1</td>\n",
       "      <td>15</td>\n",
       "      <td>7</td>\n",
       "      <td>6</td>\n",
       "      <td>2</td>\n",
       "      <td>1</td>\n",
       "    </tr>\n",
       "    <tr>\n",
       "      <th>4</th>\n",
       "      <td>15.4826</td>\n",
       "      <td>73.7996</td>\n",
       "      <td>2</td>\n",
       "      <td>15</td>\n",
       "      <td>7</td>\n",
       "      <td>6</td>\n",
       "      <td>2</td>\n",
       "      <td>1</td>\n",
       "    </tr>\n",
       "  </tbody>\n",
       "</table>\n",
       "</div>"
      ],
      "text/plain": [
       "   latitude  longitude  size_mark  day_of_month  month_of_year  day_of_week  \\\n",
       "0   18.9483    72.8442          4            15              7            6   \n",
       "1   16.9313    82.3058          3            15              7            6   \n",
       "2   20.9870    88.0019          4            15              7            6   \n",
       "3   13.3047    80.3561          1            15              7            6   \n",
       "4   15.4826    73.7996          2            15              7            6   \n",
       "\n",
       "   Total Total-binned  \n",
       "0     60            6  \n",
       "1      8            1  \n",
       "2      8            1  \n",
       "3      2            1  \n",
       "4      2            1  "
      ]
     },
     "execution_count": 67,
     "metadata": {},
     "output_type": "execute_result"
    }
   ],
   "source": [
    "df_tot.head()"
   ]
  },
  {
   "cell_type": "code",
   "execution_count": 68,
   "metadata": {},
   "outputs": [
    {
     "data": {
      "text/plain": [
       "(75768, 8)"
      ]
     },
     "execution_count": 68,
     "metadata": {},
     "output_type": "execute_result"
    }
   ],
   "source": [
    "df_tot.shape"
   ]
  },
  {
   "cell_type": "code",
   "execution_count": 69,
   "metadata": {},
   "outputs": [],
   "source": [
    "from sklearn import preprocessing"
   ]
  },
  {
   "cell_type": "code",
   "execution_count": 70,
   "metadata": {},
   "outputs": [],
   "source": [
    "X=np.asarray(df_tot[['latitude','longitude','size_mark','day_of_month','month_of_year','day_of_week']])\n",
    "y1=np.asarray(df_tot[['Total-binned']])\n",
    "y=np.asarray(df_tot[['Total']])"
   ]
  },
  {
   "cell_type": "code",
   "execution_count": 71,
   "metadata": {},
   "outputs": [],
   "source": [
    "transform = preprocessing.StandardScaler()"
   ]
  },
  {
   "cell_type": "code",
   "execution_count": 72,
   "metadata": {},
   "outputs": [],
   "source": [
    "X=transform.fit(X).transform(X)"
   ]
  },
  {
   "cell_type": "code",
   "execution_count": 73,
   "metadata": {},
   "outputs": [],
   "source": [
    "X_trainset, X_testset, y_trainset, y_testset = train_test_split(X, y1, test_size=0.3, random_state=2)"
   ]
  },
  {
   "cell_type": "code",
   "execution_count": 74,
   "metadata": {},
   "outputs": [
    {
     "data": {
      "text/plain": [
       "DecisionTreeClassifier(criterion='entropy', max_depth=5)"
      ]
     },
     "execution_count": 74,
     "metadata": {},
     "output_type": "execute_result"
    }
   ],
   "source": [
    "# Modelling\n",
    "portTree = DecisionTreeClassifier(criterion=\"entropy\", max_depth = 5)\n",
    "portTree"
   ]
  },
  {
   "cell_type": "code",
   "execution_count": 75,
   "metadata": {},
   "outputs": [],
   "source": [
    "portTree.fit(X_trainset,y_trainset)\n",
    "predTree = portTree.predict(X_testset)"
   ]
  },
  {
   "cell_type": "code",
   "execution_count": 76,
   "metadata": {},
   "outputs": [
    {
     "name": "stdout",
     "output_type": "stream",
     "text": [
      "DecisionTrees's Accuracy:  0.7587875588403502\n"
     ]
    }
   ],
   "source": [
    "from sklearn import metrics\n",
    "import matplotlib.pyplot as plt\n",
    "print(\"DecisionTrees's Accuracy: \", metrics.accuracy_score(y_testset, predTree))"
   ]
  },
  {
   "cell_type": "code",
   "execution_count": 77,
   "metadata": {},
   "outputs": [
    {
     "name": "stdout",
     "output_type": "stream",
     "text": [
      "[[2]\n",
      " [1]\n",
      " [1]\n",
      " [1]\n",
      " [1]\n",
      " [1]\n",
      " [1]\n",
      " [1]\n",
      " [2]\n",
      " [2]]\n",
      "[1 1 1 1 1 1 1 1 1 2]\n"
     ]
    }
   ],
   "source": [
    "#print(X_testset[0:5])\n",
    "print(y_testset[0:10])\n",
    "print(predTree[0:10])"
   ]
  },
  {
   "cell_type": "markdown",
   "metadata": {},
   "source": [
    "### DecisionTreeRegressor using GridSearchCV"
   ]
  },
  {
   "cell_type": "code",
   "execution_count": 78,
   "metadata": {},
   "outputs": [],
   "source": [
    "from sklearn.tree import DecisionTreeRegressor\n",
    "from sklearn.model_selection import GridSearchCV\n",
    "from sklearn.metrics import mean_squared_error as mse"
   ]
  },
  {
   "cell_type": "code",
   "execution_count": 79,
   "metadata": {},
   "outputs": [],
   "source": [
    "X_trainset, X_testset, y_trainset, y_testset = train_test_split(X, y, test_size=0.1, random_state=2)"
   ]
  },
  {
   "cell_type": "code",
   "execution_count": 80,
   "metadata": {},
   "outputs": [],
   "source": [
    "parameters = {#'criterion': ['squared_error', 'friedman_mse', 'absolute_error', 'poisson'],\n",
    "     'splitter': ['best', 'random'],\n",
    "     'max_depth': [1,2,3,4,5],\n",
    "     'max_features': ['auto', 'sqrt'],\n",
    "     'min_samples_leaf': [1, 2, 4],\n",
    "     'min_samples_split': [2, 5, 10]}\n",
    "\n",
    "portReg=DecisionTreeRegressor()"
   ]
  },
  {
   "cell_type": "code",
   "execution_count": 81,
   "metadata": {},
   "outputs": [
    {
     "data": {
      "text/plain": [
       "GridSearchCV(estimator=DecisionTreeRegressor(),\n",
       "             param_grid={'max_depth': [1, 2, 3, 4, 5],\n",
       "                         'max_features': ['auto', 'sqrt'],\n",
       "                         'min_samples_leaf': [1, 2, 4],\n",
       "                         'min_samples_split': [2, 5, 10],\n",
       "                         'splitter': ['best', 'random']})"
      ]
     },
     "execution_count": 81,
     "metadata": {},
     "output_type": "execute_result"
    }
   ],
   "source": [
    "portReg_cv=GridSearchCV(portReg, parameters)\n",
    "portReg_cv.fit(X_trainset,y_trainset)"
   ]
  },
  {
   "cell_type": "code",
   "execution_count": 82,
   "metadata": {},
   "outputs": [
    {
     "name": "stdout",
     "output_type": "stream",
     "text": [
      "tuned hpyerparameters :(best parameters)  {'max_depth': 5, 'max_features': 'auto', 'min_samples_leaf': 1, 'min_samples_split': 2, 'splitter': 'best'}\n",
      "DecisionTreeRegressor Training set Accuracy : 0.8360237157355532\n"
     ]
    }
   ],
   "source": [
    "print(\"tuned hpyerparameters :(best parameters) \",portReg_cv.best_params_)\n",
    "print(\"DecisionTreeRegressor Training set Accuracy :\",portReg_cv.best_score_)"
   ]
  },
  {
   "cell_type": "code",
   "execution_count": 83,
   "metadata": {},
   "outputs": [
    {
     "name": "stdout",
     "output_type": "stream",
     "text": [
      "DecisionTreeRegressor Test set Accuracy:  0.8564763240370449\n",
      "DecisionTreeRegressor MSE:  52.463957251902755\n"
     ]
    }
   ],
   "source": [
    "yhat=portReg_cv.predict(X_testset)\n",
    "print(\"DecisionTreeRegressor Test set Accuracy: \",r2(y_testset,yhat))\n",
    "print(\"DecisionTreeRegressor MSE: \",mse(y_testset,yhat))"
   ]
  },
  {
   "cell_type": "code",
   "execution_count": 84,
   "metadata": {},
   "outputs": [
    {
     "name": "stdout",
     "output_type": "stream",
     "text": [
      "[[19]\n",
      " [10]\n",
      " [ 2]\n",
      " [ 4]\n",
      " [ 1]]\n",
      "[11.31120982  7.13240513  1.51743265  4.67280519  5.11738896]\n"
     ]
    }
   ],
   "source": [
    "print(y_testset[0:5])\n",
    "print(yhat[0:5])"
   ]
  },
  {
   "cell_type": "code",
   "execution_count": 85,
   "metadata": {},
   "outputs": [
    {
     "data": {
      "image/png": "[encoded data removed]",
      "text/plain": [
       "<Figure size 1440x360 with 1 Axes>"
      ]
     },
     "metadata": {
      "needs_background": "light"
     },
     "output_type": "display_data"
    }
   ],
   "source": [
    "fig=plt.figure(figsize=(20,5))\n",
    "ax=fig.add_subplot()\n",
    "plt.plot(np.array(range(0,21)),y_testset[0:21])\n",
    "plt.plot(np.array(range(0,21)),yhat[0:21])\n",
    "plt.legend(labels=['Original Values','Predicted Values'])\n",
    "plt.title('DecisionTreeRegressor model Original vs. Predicted Values for Testset')\n",
    "ax.set_xlabel('Counter (first 20 outcomes)')\n",
    "ax.set_ylabel('Vessel Count')\n",
    "ax.spines['right'].set_visible(False)\n",
    "ax.spines['top'].set_visible(False)\n",
    "ax.set_xticks(np.linspace(0,20,21))\n",
    "#for p in ax.patches:\n",
    " #   ax.annotate('%2.0f'%p.get_y(), (p.get_x(), p.get_y()),fontweight='bold',fontsize=10)\n",
    "plt.show()"
   ]
  },
  {
   "cell_type": "code",
   "execution_count": 86,
   "metadata": {},
   "outputs": [],
   "source": [
    "#import pickle"
   ]
  },
  {
   "cell_type": "code",
   "execution_count": 87,
   "metadata": {},
   "outputs": [],
   "source": [
    "#filename='Total_Port_Traffic_Regressor'\n",
    "#pickle.dump(portReg_cv,open(filename,'wb'))"
   ]
  },
  {
   "cell_type": "markdown",
   "metadata": {},
   "source": [
    "### DecisionTreeRegressor for ports categorized as very small"
   ]
  },
  {
   "cell_type": "code",
   "execution_count": 88,
   "metadata": {},
   "outputs": [
    {
     "data": {
      "text/plain": [
       "latitude          float64\n",
       "longitude         float64\n",
       "size_mark           int64\n",
       "day_of_month        int64\n",
       "month_of_year       int64\n",
       "day_of_week         int64\n",
       "Total               int64\n",
       "Total-binned     category\n",
       "dtype: object"
      ]
     },
     "execution_count": 88,
     "metadata": {},
     "output_type": "execute_result"
    }
   ],
   "source": [
    "df_tot.dtypes"
   ]
  },
  {
   "cell_type": "code",
   "execution_count": 89,
   "metadata": {},
   "outputs": [],
   "source": [
    "df_vs=df_tot[df_tot['size_mark']==1].reset_index().drop('index', axis=1)"
   ]
  },
  {
   "cell_type": "code",
   "execution_count": 90,
   "metadata": {},
   "outputs": [
    {
     "data": {
      "text/html": [
       "<div>\n",
       "<style scoped>\n",
       "    .dataframe tbody tr th:only-of-type {\n",
       "        vertical-align: middle;\n",
       "    }\n",
       "\n",
       "    .dataframe tbody tr th {\n",
       "        vertical-align: top;\n",
       "    }\n",
       "\n",
       "    .dataframe thead th {\n",
       "        text-align: right;\n",
       "    }\n",
       "</style>\n",
       "<table border=\"1\" class=\"dataframe\">\n",
       "  <thead>\n",
       "    <tr style=\"text-align: right;\">\n",
       "      <th></th>\n",
       "      <th>latitude</th>\n",
       "      <th>longitude</th>\n",
       "      <th>size_mark</th>\n",
       "      <th>day_of_month</th>\n",
       "      <th>month_of_year</th>\n",
       "      <th>day_of_week</th>\n",
       "      <th>Total</th>\n",
       "      <th>Total-binned</th>\n",
       "    </tr>\n",
       "  </thead>\n",
       "  <tbody>\n",
       "    <tr>\n",
       "      <th>0</th>\n",
       "      <td>13.3047</td>\n",
       "      <td>80.3561</td>\n",
       "      <td>1</td>\n",
       "      <td>15</td>\n",
       "      <td>7</td>\n",
       "      <td>6</td>\n",
       "      <td>2</td>\n",
       "      <td>1</td>\n",
       "    </tr>\n",
       "    <tr>\n",
       "      <th>1</th>\n",
       "      <td>21.7609</td>\n",
       "      <td>72.2334</td>\n",
       "      <td>1</td>\n",
       "      <td>15</td>\n",
       "      <td>7</td>\n",
       "      <td>6</td>\n",
       "      <td>3</td>\n",
       "      <td>1</td>\n",
       "    </tr>\n",
       "    <tr>\n",
       "      <th>2</th>\n",
       "      <td>20.1271</td>\n",
       "      <td>86.7350</td>\n",
       "      <td>1</td>\n",
       "      <td>15</td>\n",
       "      <td>7</td>\n",
       "      <td>6</td>\n",
       "      <td>9</td>\n",
       "      <td>1</td>\n",
       "    </tr>\n",
       "    <tr>\n",
       "      <th>3</th>\n",
       "      <td>17.2966</td>\n",
       "      <td>73.2155</td>\n",
       "      <td>1</td>\n",
       "      <td>15</td>\n",
       "      <td>7</td>\n",
       "      <td>6</td>\n",
       "      <td>1</td>\n",
       "      <td>1</td>\n",
       "    </tr>\n",
       "    <tr>\n",
       "      <th>4</th>\n",
       "      <td>15.5517</td>\n",
       "      <td>73.9624</td>\n",
       "      <td>1</td>\n",
       "      <td>15</td>\n",
       "      <td>7</td>\n",
       "      <td>6</td>\n",
       "      <td>2</td>\n",
       "      <td>1</td>\n",
       "    </tr>\n",
       "  </tbody>\n",
       "</table>\n",
       "</div>"
      ],
      "text/plain": [
       "   latitude  longitude  size_mark  day_of_month  month_of_year  day_of_week  \\\n",
       "0   13.3047    80.3561          1            15              7            6   \n",
       "1   21.7609    72.2334          1            15              7            6   \n",
       "2   20.1271    86.7350          1            15              7            6   \n",
       "3   17.2966    73.2155          1            15              7            6   \n",
       "4   15.5517    73.9624          1            15              7            6   \n",
       "\n",
       "   Total Total-binned  \n",
       "0      2            1  \n",
       "1      3            1  \n",
       "2      9            1  \n",
       "3      1            1  \n",
       "4      2            1  "
      ]
     },
     "execution_count": 90,
     "metadata": {},
     "output_type": "execute_result"
    }
   ],
   "source": [
    "df_vs.head()"
   ]
  },
  {
   "cell_type": "code",
   "execution_count": 91,
   "metadata": {},
   "outputs": [
    {
     "data": {
      "text/plain": [
       "(16180, 8)"
      ]
     },
     "execution_count": 91,
     "metadata": {},
     "output_type": "execute_result"
    }
   ],
   "source": [
    "df_vs.shape"
   ]
  },
  {
   "cell_type": "code",
   "execution_count": 93,
   "metadata": {},
   "outputs": [],
   "source": [
    "X=np.asarray(df_vs[['latitude','longitude','day_of_month','month_of_year','day_of_week']])\n",
    "y=np.asarray(df_vs[['Total']])"
   ]
  },
  {
   "cell_type": "code",
   "execution_count": 94,
   "metadata": {},
   "outputs": [],
   "source": [
    "X=transform.fit(X).transform(X)"
   ]
  },
  {
   "cell_type": "code",
   "execution_count": 95,
   "metadata": {},
   "outputs": [],
   "source": [
    "X_trainset, X_testset, y_trainset, y_testset = train_test_split(X, y, test_size=0.1, random_state=2)"
   ]
  },
  {
   "cell_type": "code",
   "execution_count": 96,
   "metadata": {},
   "outputs": [],
   "source": [
    "vsReg=DecisionTreeRegressor()"
   ]
  },
  {
   "cell_type": "code",
   "execution_count": 97,
   "metadata": {},
   "outputs": [
    {
     "data": {
      "text/plain": [
       "GridSearchCV(estimator=DecisionTreeRegressor(),\n",
       "             param_grid={'max_depth': [1, 2, 3, 4, 5],\n",
       "                         'max_features': ['auto', 'sqrt'],\n",
       "                         'min_samples_leaf': [1, 2, 4],\n",
       "                         'min_samples_split': [2, 5, 10],\n",
       "                         'splitter': ['best', 'random']})"
      ]
     },
     "execution_count": 97,
     "metadata": {},
     "output_type": "execute_result"
    }
   ],
   "source": [
    "vsReg_cv=GridSearchCV(vsReg, parameters)\n",
    "vsReg_cv.fit(X_trainset,y_trainset)"
   ]
  },
  {
   "cell_type": "code",
   "execution_count": 98,
   "metadata": {},
   "outputs": [
    {
     "name": "stdout",
     "output_type": "stream",
     "text": [
      "tuned hpyerparameters :(best parameters)  {'max_depth': 5, 'max_features': 'auto', 'min_samples_leaf': 1, 'min_samples_split': 2, 'splitter': 'best'}\n",
      "DecisionTreeRegressor Training set Accuracy : 0.46186793114621344\n"
     ]
    }
   ],
   "source": [
    "print(\"tuned hpyerparameters :(best parameters) \",vsReg_cv.best_params_)\n",
    "print(\"DecisionTreeRegressor Training set Accuracy :\",vsReg_cv.best_score_)"
   ]
  },
  {
   "cell_type": "code",
   "execution_count": 99,
   "metadata": {},
   "outputs": [
    {
     "name": "stdout",
     "output_type": "stream",
     "text": [
      "DecisionTreeRegressor Test set Accuracy:  0.4823126939067972\n",
      "DecisionTreeRegressor MSE:  11.49799424696697\n"
     ]
    }
   ],
   "source": [
    "yhat=vsReg_cv.predict(X_testset)\n",
    "print(\"DecisionTreeRegressor Test set Accuracy: \",r2(y_testset,yhat))\n",
    "print(\"DecisionTreeRegressor MSE: \",mse(y_testset,yhat))"
   ]
  },
  {
   "cell_type": "code",
   "execution_count": 100,
   "metadata": {},
   "outputs": [
    {
     "name": "stdout",
     "output_type": "stream",
     "text": [
      "[[1]\n",
      " [2]\n",
      " [1]\n",
      " [1]\n",
      " [2]]\n",
      "[1.85436893 4.06890756 1.58801498 4.06890756 4.06890756]\n"
     ]
    }
   ],
   "source": [
    "print(y_testset[0:5])\n",
    "print(yhat[0:5])"
   ]
  },
  {
   "cell_type": "code",
   "execution_count": 101,
   "metadata": {},
   "outputs": [
    {
     "data": {
      "image/png": "[encoded data removed]",
      "text/plain": [
       "<Figure size 1440x360 with 1 Axes>"
      ]
     },
     "metadata": {
      "needs_background": "light"
     },
     "output_type": "display_data"
    }
   ],
   "source": [
    "fig=plt.figure(figsize=(20,5))\n",
    "ax=fig.add_subplot()\n",
    "plt.plot(np.array(range(0,21)),y_testset[0:21])\n",
    "plt.plot(np.array(range(0,21)),yhat[0:21])\n",
    "plt.legend(labels=['Original Values','Predicted Values'])\n",
    "plt.title('DecisionTreeRegressor model Original vs. Predicted Values for Testset')\n",
    "ax.set_xlabel('Counter (first 20 outcomes)')\n",
    "ax.set_ylabel('Vessel Count')\n",
    "ax.spines['right'].set_visible(False)\n",
    "ax.spines['top'].set_visible(False)\n",
    "ax.set_xticks(np.linspace(0,20,21))\n",
    "#for p in ax.patches:\n",
    " #   ax.annotate('%2.0f'%p.get_y(), (p.get_x(), p.get_y()),fontweight='bold',fontsize=10)\n",
    "plt.show()"
   ]
  },
  {
   "cell_type": "markdown",
   "metadata": {},
   "source": [
    "### DecisionTreeRegressor for ports categorized as small"
   ]
  },
  {
   "cell_type": "code",
   "execution_count": 102,
   "metadata": {},
   "outputs": [],
   "source": [
    "df_s=df_tot[df_tot['size_mark']==2].reset_index().drop('index', axis=1)"
   ]
  },
  {
   "cell_type": "code",
   "execution_count": 103,
   "metadata": {},
   "outputs": [
    {
     "data": {
      "text/html": [
       "<div>\n",
       "<style scoped>\n",
       "    .dataframe tbody tr th:only-of-type {\n",
       "        vertical-align: middle;\n",
       "    }\n",
       "\n",
       "    .dataframe tbody tr th {\n",
       "        vertical-align: top;\n",
       "    }\n",
       "\n",
       "    .dataframe thead th {\n",
       "        text-align: right;\n",
       "    }\n",
       "</style>\n",
       "<table border=\"1\" class=\"dataframe\">\n",
       "  <thead>\n",
       "    <tr style=\"text-align: right;\">\n",
       "      <th></th>\n",
       "      <th>latitude</th>\n",
       "      <th>longitude</th>\n",
       "      <th>size_mark</th>\n",
       "      <th>day_of_month</th>\n",
       "      <th>month_of_year</th>\n",
       "      <th>day_of_week</th>\n",
       "      <th>Total</th>\n",
       "      <th>Total-binned</th>\n",
       "    </tr>\n",
       "  </thead>\n",
       "  <tbody>\n",
       "    <tr>\n",
       "      <th>0</th>\n",
       "      <td>15.4826</td>\n",
       "      <td>73.7996</td>\n",
       "      <td>2</td>\n",
       "      <td>15</td>\n",
       "      <td>7</td>\n",
       "      <td>6</td>\n",
       "      <td>2</td>\n",
       "      <td>1</td>\n",
       "    </tr>\n",
       "    <tr>\n",
       "      <th>1</th>\n",
       "      <td>22.4604</td>\n",
       "      <td>69.8180</td>\n",
       "      <td>2</td>\n",
       "      <td>15</td>\n",
       "      <td>7</td>\n",
       "      <td>6</td>\n",
       "      <td>13</td>\n",
       "      <td>2</td>\n",
       "    </tr>\n",
       "    <tr>\n",
       "      <th>2</th>\n",
       "      <td>13.2299</td>\n",
       "      <td>80.4079</td>\n",
       "      <td>2</td>\n",
       "      <td>15</td>\n",
       "      <td>7</td>\n",
       "      <td>6</td>\n",
       "      <td>2</td>\n",
       "      <td>1</td>\n",
       "    </tr>\n",
       "    <tr>\n",
       "      <th>3</th>\n",
       "      <td>14.7722</td>\n",
       "      <td>74.1343</td>\n",
       "      <td>2</td>\n",
       "      <td>15</td>\n",
       "      <td>7</td>\n",
       "      <td>6</td>\n",
       "      <td>1</td>\n",
       "      <td>1</td>\n",
       "    </tr>\n",
       "    <tr>\n",
       "      <th>4</th>\n",
       "      <td>21.0297</td>\n",
       "      <td>72.5729</td>\n",
       "      <td>2</td>\n",
       "      <td>15</td>\n",
       "      <td>7</td>\n",
       "      <td>6</td>\n",
       "      <td>10</td>\n",
       "      <td>1</td>\n",
       "    </tr>\n",
       "  </tbody>\n",
       "</table>\n",
       "</div>"
      ],
      "text/plain": [
       "   latitude  longitude  size_mark  day_of_month  month_of_year  day_of_week  \\\n",
       "0   15.4826    73.7996          2            15              7            6   \n",
       "1   22.4604    69.8180          2            15              7            6   \n",
       "2   13.2299    80.4079          2            15              7            6   \n",
       "3   14.7722    74.1343          2            15              7            6   \n",
       "4   21.0297    72.5729          2            15              7            6   \n",
       "\n",
       "   Total Total-binned  \n",
       "0      2            1  \n",
       "1     13            2  \n",
       "2      2            1  \n",
       "3      1            1  \n",
       "4     10            1  "
      ]
     },
     "execution_count": 103,
     "metadata": {},
     "output_type": "execute_result"
    }
   ],
   "source": [
    "df_s.head()"
   ]
  },
  {
   "cell_type": "code",
   "execution_count": 104,
   "metadata": {},
   "outputs": [
    {
     "data": {
      "text/plain": [
       "(19887, 8)"
      ]
     },
     "execution_count": 104,
     "metadata": {},
     "output_type": "execute_result"
    }
   ],
   "source": [
    "df_s.shape"
   ]
  },
  {
   "cell_type": "code",
   "execution_count": 105,
   "metadata": {},
   "outputs": [],
   "source": [
    "X=np.asarray(df_s[['latitude','longitude','day_of_month','month_of_year','day_of_week']])\n",
    "y=np.asarray(df_s[['Total']])"
   ]
  },
  {
   "cell_type": "code",
   "execution_count": 106,
   "metadata": {},
   "outputs": [],
   "source": [
    "X=transform.fit(X).transform(X)"
   ]
  },
  {
   "cell_type": "code",
   "execution_count": 107,
   "metadata": {},
   "outputs": [],
   "source": [
    "X_trainset, X_testset, y_trainset, y_testset = train_test_split(X, y, test_size=0.1, random_state=2)"
   ]
  },
  {
   "cell_type": "code",
   "execution_count": 108,
   "metadata": {},
   "outputs": [],
   "source": [
    "sReg=DecisionTreeRegressor()"
   ]
  },
  {
   "cell_type": "code",
   "execution_count": 109,
   "metadata": {},
   "outputs": [
    {
     "data": {
      "text/plain": [
       "GridSearchCV(estimator=DecisionTreeRegressor(),\n",
       "             param_grid={'max_depth': [1, 2, 3, 4, 5],\n",
       "                         'max_features': ['auto', 'sqrt'],\n",
       "                         'min_samples_leaf': [1, 2, 4],\n",
       "                         'min_samples_split': [2, 5, 10],\n",
       "                         'splitter': ['best', 'random']})"
      ]
     },
     "execution_count": 109,
     "metadata": {},
     "output_type": "execute_result"
    }
   ],
   "source": [
    "sReg_cv=GridSearchCV(sReg, parameters)\n",
    "sReg_cv.fit(X_trainset,y_trainset)"
   ]
  },
  {
   "cell_type": "code",
   "execution_count": 110,
   "metadata": {},
   "outputs": [
    {
     "name": "stdout",
     "output_type": "stream",
     "text": [
      "tuned hpyerparameters :(best parameters)  {'max_depth': 5, 'max_features': 'auto', 'min_samples_leaf': 4, 'min_samples_split': 5, 'splitter': 'best'}\n",
      "DecisionTreeRegressor Training set Accuracy : 0.6986626368497296\n"
     ]
    }
   ],
   "source": [
    "print(\"tuned hpyerparameters :(best parameters) \",sReg_cv.best_params_)\n",
    "print(\"DecisionTreeRegressor Training set Accuracy :\",sReg_cv.best_score_)"
   ]
  },
  {
   "cell_type": "code",
   "execution_count": 111,
   "metadata": {},
   "outputs": [
    {
     "name": "stdout",
     "output_type": "stream",
     "text": [
      "DecisionTreeRegressor Test set Accuracy:  0.7102176248026556\n",
      "DecisionTreeRegressor MSE:  18.102781093934414\n"
     ]
    }
   ],
   "source": [
    "yhat=sReg_cv.predict(X_testset)\n",
    "print(\"DecisionTreeRegressor Test set Accuracy: \",r2(y_testset,yhat))\n",
    "print(\"DecisionTreeRegressor MSE: \",mse(y_testset,yhat))"
   ]
  },
  {
   "cell_type": "code",
   "execution_count": 112,
   "metadata": {},
   "outputs": [
    {
     "name": "stdout",
     "output_type": "stream",
     "text": [
      "[[ 1]\n",
      " [ 3]\n",
      " [ 6]\n",
      " [ 5]\n",
      " [11]]\n",
      "[2.75319567 6.62606232 4.11620553 4.11620553 7.68715084]\n"
     ]
    }
   ],
   "source": [
    "print(y_testset[0:5])\n",
    "print(yhat[0:5])"
   ]
  },
  {
   "cell_type": "code",
   "execution_count": 113,
   "metadata": {},
   "outputs": [
    {
     "data": {
      "image/png": "[encoded data removed]",
      "text/plain": [
       "<Figure size 1440x360 with 1 Axes>"
      ]
     },
     "metadata": {
      "needs_background": "light"
     },
     "output_type": "display_data"
    }
   ],
   "source": [
    "fig=plt.figure(figsize=(20,5))\n",
    "ax=fig.add_subplot()\n",
    "plt.plot(np.array(range(0,21)),y_testset[0:21])\n",
    "plt.plot(np.array(range(0,21)),yhat[0:21])\n",
    "plt.legend(labels=['Original Values','Predicted Values'])\n",
    "plt.title('DecisionTreeRegressor model Original vs. Predicted Values for Testset')\n",
    "ax.set_xlabel('Counter (first 20 outcomes)')\n",
    "ax.set_ylabel('Vessel Count')\n",
    "ax.spines['right'].set_visible(False)\n",
    "ax.spines['top'].set_visible(False)\n",
    "ax.set_xticks(np.linspace(0,20,21))\n",
    "#for p in ax.patches:\n",
    " #   ax.annotate('%2.0f'%p.get_y(), (p.get_x(), p.get_y()),fontweight='bold',fontsize=10)\n",
    "plt.show()"
   ]
  },
  {
   "cell_type": "markdown",
   "metadata": {},
   "source": [
    "### DecisionTreeRegressor for ports cateorized as medium"
   ]
  },
  {
   "cell_type": "code",
   "execution_count": 114,
   "metadata": {},
   "outputs": [],
   "source": [
    "df_m=df_tot[df_tot['size_mark']==3].reset_index().drop('index', axis=1)"
   ]
  },
  {
   "cell_type": "code",
   "execution_count": 115,
   "metadata": {},
   "outputs": [
    {
     "data": {
      "text/html": [
       "<div>\n",
       "<style scoped>\n",
       "    .dataframe tbody tr th:only-of-type {\n",
       "        vertical-align: middle;\n",
       "    }\n",
       "\n",
       "    .dataframe tbody tr th {\n",
       "        vertical-align: top;\n",
       "    }\n",
       "\n",
       "    .dataframe thead th {\n",
       "        text-align: right;\n",
       "    }\n",
       "</style>\n",
       "<table border=\"1\" class=\"dataframe\">\n",
       "  <thead>\n",
       "    <tr style=\"text-align: right;\">\n",
       "      <th></th>\n",
       "      <th>latitude</th>\n",
       "      <th>longitude</th>\n",
       "      <th>size_mark</th>\n",
       "      <th>day_of_month</th>\n",
       "      <th>month_of_year</th>\n",
       "      <th>day_of_week</th>\n",
       "      <th>Total</th>\n",
       "      <th>Total-binned</th>\n",
       "    </tr>\n",
       "  </thead>\n",
       "  <tbody>\n",
       "    <tr>\n",
       "      <th>0</th>\n",
       "      <td>16.9313</td>\n",
       "      <td>82.3058</td>\n",
       "      <td>3</td>\n",
       "      <td>15</td>\n",
       "      <td>7</td>\n",
       "      <td>6</td>\n",
       "      <td>8</td>\n",
       "      <td>1</td>\n",
       "    </tr>\n",
       "    <tr>\n",
       "      <th>1</th>\n",
       "      <td>20.8687</td>\n",
       "      <td>71.4798</td>\n",
       "      <td>3</td>\n",
       "      <td>15</td>\n",
       "      <td>7</td>\n",
       "      <td>6</td>\n",
       "      <td>3</td>\n",
       "      <td>1</td>\n",
       "    </tr>\n",
       "    <tr>\n",
       "      <th>2</th>\n",
       "      <td>8.7819</td>\n",
       "      <td>78.1949</td>\n",
       "      <td>3</td>\n",
       "      <td>15</td>\n",
       "      <td>7</td>\n",
       "      <td>6</td>\n",
       "      <td>9</td>\n",
       "      <td>1</td>\n",
       "    </tr>\n",
       "    <tr>\n",
       "      <th>3</th>\n",
       "      <td>22.6637</td>\n",
       "      <td>69.6482</td>\n",
       "      <td>3</td>\n",
       "      <td>15</td>\n",
       "      <td>7</td>\n",
       "      <td>6</td>\n",
       "      <td>13</td>\n",
       "      <td>2</td>\n",
       "    </tr>\n",
       "    <tr>\n",
       "      <th>4</th>\n",
       "      <td>12.9268</td>\n",
       "      <td>74.8062</td>\n",
       "      <td>3</td>\n",
       "      <td>15</td>\n",
       "      <td>7</td>\n",
       "      <td>6</td>\n",
       "      <td>3</td>\n",
       "      <td>1</td>\n",
       "    </tr>\n",
       "  </tbody>\n",
       "</table>\n",
       "</div>"
      ],
      "text/plain": [
       "   latitude  longitude  size_mark  day_of_month  month_of_year  day_of_week  \\\n",
       "0   16.9313    82.3058          3            15              7            6   \n",
       "1   20.8687    71.4798          3            15              7            6   \n",
       "2    8.7819    78.1949          3            15              7            6   \n",
       "3   22.6637    69.6482          3            15              7            6   \n",
       "4   12.9268    74.8062          3            15              7            6   \n",
       "\n",
       "   Total Total-binned  \n",
       "0      8            1  \n",
       "1      3            1  \n",
       "2      9            1  \n",
       "3     13            2  \n",
       "4      3            1  "
      ]
     },
     "execution_count": 115,
     "metadata": {},
     "output_type": "execute_result"
    }
   ],
   "source": [
    "df_m.head()"
   ]
  },
  {
   "cell_type": "code",
   "execution_count": 116,
   "metadata": {},
   "outputs": [
    {
     "data": {
      "text/plain": [
       "(21146, 8)"
      ]
     },
     "execution_count": 116,
     "metadata": {},
     "output_type": "execute_result"
    }
   ],
   "source": [
    "df_m.shape"
   ]
  },
  {
   "cell_type": "code",
   "execution_count": 118,
   "metadata": {},
   "outputs": [],
   "source": [
    "X=np.asarray(df_m[['latitude','longitude','day_of_month','month_of_year','day_of_week']])\n",
    "y=np.asarray(df_m[['Total']])"
   ]
  },
  {
   "cell_type": "code",
   "execution_count": 119,
   "metadata": {},
   "outputs": [
    {
     "data": {
      "text/plain": [
       "array([[16.9313, 82.3058, 15.    ,  7.    ,  6.    ],\n",
       "       [20.8687, 71.4798, 15.    ,  7.    ,  6.    ],\n",
       "       [ 8.7819, 78.1949, 15.    ,  7.    ,  6.    ],\n",
       "       ...,\n",
       "       [22.756 , 69.6364, 22.    ,  6.    ,  2.    ],\n",
       "       [20.9175, 71.5051, 22.    ,  6.    ,  2.    ],\n",
       "       [22.7143, 70.074 , 22.    ,  6.    ,  2.    ]])"
      ]
     },
     "execution_count": 119,
     "metadata": {},
     "output_type": "execute_result"
    }
   ],
   "source": [
    "X"
   ]
  },
  {
   "cell_type": "code",
   "execution_count": 120,
   "metadata": {},
   "outputs": [],
   "source": [
    "X=transform.fit(X).transform(X)"
   ]
  },
  {
   "cell_type": "code",
   "execution_count": 121,
   "metadata": {},
   "outputs": [
    {
     "data": {
      "text/plain": [
       "array([[-0.29994994,  1.3663651 , -0.08642089,  0.14482629,  1.00314411],\n",
       "       [ 0.50187971, -0.62967303, -0.08642089,  0.14482629,  1.00314411],\n",
       "       [-1.95953002,  0.60842004, -0.08642089,  0.14482629,  1.00314411],\n",
       "       ...,\n",
       "       [ 0.88621788, -0.96954895,  0.71144558, -0.1396866 , -0.99581792],\n",
       "       [ 0.51181756, -0.62500836,  0.71144558, -0.1396866 , -0.99581792],\n",
       "       [ 0.87772591, -0.88886668,  0.71144558, -0.1396866 , -0.99581792]])"
      ]
     },
     "execution_count": 121,
     "metadata": {},
     "output_type": "execute_result"
    }
   ],
   "source": [
    "X"
   ]
  },
  {
   "cell_type": "code",
   "execution_count": 122,
   "metadata": {},
   "outputs": [],
   "source": [
    "X_trainset, X_testset, y_trainset, y_testset = train_test_split(X, y, test_size=0.1, random_state=2)"
   ]
  },
  {
   "cell_type": "code",
   "execution_count": 123,
   "metadata": {},
   "outputs": [],
   "source": [
    "mReg=DecisionTreeRegressor()"
   ]
  },
  {
   "cell_type": "code",
   "execution_count": 124,
   "metadata": {},
   "outputs": [
    {
     "data": {
      "text/plain": [
       "GridSearchCV(estimator=DecisionTreeRegressor(),\n",
       "             param_grid={'max_depth': [1, 2, 3, 4, 5],\n",
       "                         'max_features': ['auto', 'sqrt'],\n",
       "                         'min_samples_leaf': [1, 2, 4],\n",
       "                         'min_samples_split': [2, 5, 10],\n",
       "                         'splitter': ['best', 'random']})"
      ]
     },
     "execution_count": 124,
     "metadata": {},
     "output_type": "execute_result"
    }
   ],
   "source": [
    "mReg_cv=GridSearchCV(mReg,parameters)\n",
    "mReg_cv.fit(X_trainset,y_trainset)"
   ]
  },
  {
   "cell_type": "code",
   "execution_count": 125,
   "metadata": {},
   "outputs": [
    {
     "name": "stdout",
     "output_type": "stream",
     "text": [
      "tuned hpyerparameters :(best parameters)  {'max_depth': 5, 'max_features': 'auto', 'min_samples_leaf': 1, 'min_samples_split': 2, 'splitter': 'best'}\n",
      "DecisionTreeRegressor Training set Accuracy : 0.8417455846300594\n"
     ]
    }
   ],
   "source": [
    "print(\"tuned hpyerparameters :(best parameters) \",mReg_cv.best_params_)\n",
    "print(\"DecisionTreeRegressor Training set Accuracy :\",mReg_cv.best_score_)"
   ]
  },
  {
   "cell_type": "code",
   "execution_count": 126,
   "metadata": {},
   "outputs": [
    {
     "name": "stdout",
     "output_type": "stream",
     "text": [
      "DecisionTreeRegressor Test set Accuracy:  0.8442465723555594\n",
      "DecisionTreeRegressor MSE:  44.28847688778284\n"
     ]
    }
   ],
   "source": [
    "yhat=mReg_cv.predict(X_testset)\n",
    "print(\"DecisionTreeRegressor Test set Accuracy: \",r2(y_testset,yhat))\n",
    "print(\"DecisionTreeRegressor MSE: \",mse(y_testset,yhat))"
   ]
  },
  {
   "cell_type": "code",
   "execution_count": 127,
   "metadata": {},
   "outputs": [
    {
     "name": "stdout",
     "output_type": "stream",
     "text": [
      "[[ 4]\n",
      " [ 7]\n",
      " [ 1]\n",
      " [39]\n",
      " [ 5]]\n",
      "[ 5.32236842  8.60529344  2.57679558 28.79442509  6.34636651]\n"
     ]
    }
   ],
   "source": [
    "print(y_testset[0:5])\n",
    "print(yhat[0:5])"
   ]
  },
  {
   "cell_type": "code",
   "execution_count": 128,
   "metadata": {},
   "outputs": [
    {
     "data": {
      "image/png": "[encoded data removed]",
      "text/plain": [
       "<Figure size 1440x360 with 1 Axes>"
      ]
     },
     "metadata": {
      "needs_background": "light"
     },
     "output_type": "display_data"
    }
   ],
   "source": [
    "fig=plt.figure(figsize=(20,5))\n",
    "ax=fig.add_subplot()\n",
    "plt.plot(np.array(range(0,21)),y_testset[0:21])\n",
    "plt.plot(np.array(range(0,21)),yhat[0:21])\n",
    "plt.legend(labels=['Original Values','Predicted Values'])\n",
    "plt.title('DecisionTreeRegressor model Original vs. Predicted Values for Testset')\n",
    "ax.set_xlabel('Counter (first 20 outcomes)')\n",
    "ax.set_ylabel('Vessel Count')\n",
    "ax.spines['right'].set_visible(False)\n",
    "ax.spines['top'].set_visible(False)\n",
    "ax.set_xticks(np.linspace(0,20,21))\n",
    "#for p in ax.patches:\n",
    " #   ax.annotate('%2.0f'%p.get_y(), (p.get_x(), p.get_y()),fontweight='bold',fontsize=10)\n",
    "plt.show()"
   ]
  },
  {
   "cell_type": "markdown",
   "metadata": {},
   "source": [
    "### DecisionTreeRegessor foe ports categorized as large"
   ]
  },
  {
   "cell_type": "code",
   "execution_count": 129,
   "metadata": {},
   "outputs": [],
   "source": [
    "df_l=df_tot[df_tot['size_mark']==4].reset_index().drop('index', axis=1)"
   ]
  },
  {
   "cell_type": "code",
   "execution_count": 130,
   "metadata": {},
   "outputs": [
    {
     "data": {
      "text/html": [
       "<div>\n",
       "<style scoped>\n",
       "    .dataframe tbody tr th:only-of-type {\n",
       "        vertical-align: middle;\n",
       "    }\n",
       "\n",
       "    .dataframe tbody tr th {\n",
       "        vertical-align: top;\n",
       "    }\n",
       "\n",
       "    .dataframe thead th {\n",
       "        text-align: right;\n",
       "    }\n",
       "</style>\n",
       "<table border=\"1\" class=\"dataframe\">\n",
       "  <thead>\n",
       "    <tr style=\"text-align: right;\">\n",
       "      <th></th>\n",
       "      <th>latitude</th>\n",
       "      <th>longitude</th>\n",
       "      <th>size_mark</th>\n",
       "      <th>day_of_month</th>\n",
       "      <th>month_of_year</th>\n",
       "      <th>day_of_week</th>\n",
       "      <th>Total</th>\n",
       "      <th>Total-binned</th>\n",
       "    </tr>\n",
       "  </thead>\n",
       "  <tbody>\n",
       "    <tr>\n",
       "      <th>0</th>\n",
       "      <td>18.9483</td>\n",
       "      <td>72.8442</td>\n",
       "      <td>4</td>\n",
       "      <td>15</td>\n",
       "      <td>7</td>\n",
       "      <td>6</td>\n",
       "      <td>60</td>\n",
       "      <td>6</td>\n",
       "    </tr>\n",
       "    <tr>\n",
       "      <th>1</th>\n",
       "      <td>20.9870</td>\n",
       "      <td>88.0019</td>\n",
       "      <td>4</td>\n",
       "      <td>15</td>\n",
       "      <td>7</td>\n",
       "      <td>6</td>\n",
       "      <td>8</td>\n",
       "      <td>1</td>\n",
       "    </tr>\n",
       "    <tr>\n",
       "      <th>2</th>\n",
       "      <td>18.9080</td>\n",
       "      <td>72.6010</td>\n",
       "      <td>4</td>\n",
       "      <td>15</td>\n",
       "      <td>7</td>\n",
       "      <td>6</td>\n",
       "      <td>41</td>\n",
       "      <td>5</td>\n",
       "    </tr>\n",
       "    <tr>\n",
       "      <th>3</th>\n",
       "      <td>13.1031</td>\n",
       "      <td>80.3819</td>\n",
       "      <td>4</td>\n",
       "      <td>15</td>\n",
       "      <td>7</td>\n",
       "      <td>6</td>\n",
       "      <td>3</td>\n",
       "      <td>1</td>\n",
       "    </tr>\n",
       "    <tr>\n",
       "      <th>4</th>\n",
       "      <td>9.9546</td>\n",
       "      <td>76.2678</td>\n",
       "      <td>4</td>\n",
       "      <td>15</td>\n",
       "      <td>7</td>\n",
       "      <td>6</td>\n",
       "      <td>12</td>\n",
       "      <td>2</td>\n",
       "    </tr>\n",
       "  </tbody>\n",
       "</table>\n",
       "</div>"
      ],
      "text/plain": [
       "   latitude  longitude  size_mark  day_of_month  month_of_year  day_of_week  \\\n",
       "0   18.9483    72.8442          4            15              7            6   \n",
       "1   20.9870    88.0019          4            15              7            6   \n",
       "2   18.9080    72.6010          4            15              7            6   \n",
       "3   13.1031    80.3819          4            15              7            6   \n",
       "4    9.9546    76.2678          4            15              7            6   \n",
       "\n",
       "   Total Total-binned  \n",
       "0     60            6  \n",
       "1      8            1  \n",
       "2     41            5  \n",
       "3      3            1  \n",
       "4     12            2  "
      ]
     },
     "execution_count": 130,
     "metadata": {},
     "output_type": "execute_result"
    }
   ],
   "source": [
    "df_l.head()"
   ]
  },
  {
   "cell_type": "code",
   "execution_count": 131,
   "metadata": {},
   "outputs": [
    {
     "data": {
      "text/plain": [
       "(18555, 8)"
      ]
     },
     "execution_count": 131,
     "metadata": {},
     "output_type": "execute_result"
    }
   ],
   "source": [
    "df_l.shape"
   ]
  },
  {
   "cell_type": "code",
   "execution_count": 132,
   "metadata": {},
   "outputs": [],
   "source": [
    "X=np.asarray(df_l[['latitude','longitude','day_of_month','month_of_year','day_of_week']])\n",
    "y=np.asarray(df_l[['Total']])"
   ]
  },
  {
   "cell_type": "code",
   "execution_count": 133,
   "metadata": {},
   "outputs": [
    {
     "data": {
      "text/plain": [
       "array([[18.9483, 72.8442, 15.    ,  7.    ,  6.    ],\n",
       "       [20.987 , 88.0019, 15.    ,  7.    ,  6.    ],\n",
       "       [18.908 , 72.601 , 15.    ,  7.    ,  6.    ],\n",
       "       ...,\n",
       "       [23.0185, 70.2311, 22.    ,  6.    ,  2.    ],\n",
       "       [20.987 , 88.0019, 22.    ,  6.    ,  2.    ],\n",
       "       [ 9.9546, 76.2678, 23.    ,  6.    ,  3.    ]])"
      ]
     },
     "execution_count": 133,
     "metadata": {},
     "output_type": "execute_result"
    }
   ],
   "source": [
    "X"
   ]
  },
  {
   "cell_type": "code",
   "execution_count": 134,
   "metadata": {},
   "outputs": [],
   "source": [
    "X=transform.fit(X).transform(X)"
   ]
  },
  {
   "cell_type": "code",
   "execution_count": 135,
   "metadata": {},
   "outputs": [
    {
     "data": {
      "text/plain": [
       "array([[ 0.38628546, -1.06689499, -0.08471777,  0.13901969,  1.00064723],\n",
       "       [ 0.8667265 ,  1.44133979, -0.08471777,  0.13901969,  1.00064723],\n",
       "       [ 0.37678834, -1.10713874, -0.08471777,  0.13901969,  1.00064723],\n",
       "       ...,\n",
       "       [ 1.34547078, -1.49930019,  0.71223797, -0.14883996, -0.99827717],\n",
       "       [ 0.8667265 ,  1.44133979,  0.71223797, -0.14883996, -0.99827717],\n",
       "       [-1.73317428, -0.50037153,  0.82608878, -0.14883996, -0.49854607]])"
      ]
     },
     "execution_count": 135,
     "metadata": {},
     "output_type": "execute_result"
    }
   ],
   "source": [
    "X"
   ]
  },
  {
   "cell_type": "code",
   "execution_count": 136,
   "metadata": {},
   "outputs": [],
   "source": [
    "X_trainset, X_testset, y_trainset, y_testset = train_test_split(X, y, test_size=0.1, random_state=2)"
   ]
  },
  {
   "cell_type": "code",
   "execution_count": 137,
   "metadata": {},
   "outputs": [],
   "source": [
    "lReg=DecisionTreeRegressor()"
   ]
  },
  {
   "cell_type": "code",
   "execution_count": 138,
   "metadata": {},
   "outputs": [
    {
     "data": {
      "text/plain": [
       "GridSearchCV(estimator=DecisionTreeRegressor(),\n",
       "             param_grid={'max_depth': [1, 2, 3, 4, 5],\n",
       "                         'max_features': ['auto', 'sqrt'],\n",
       "                         'min_samples_leaf': [1, 2, 4],\n",
       "                         'min_samples_split': [2, 5, 10],\n",
       "                         'splitter': ['best', 'random']})"
      ]
     },
     "execution_count": 138,
     "metadata": {},
     "output_type": "execute_result"
    }
   ],
   "source": [
    "lReg_cv=GridSearchCV(lReg,parameters)\n",
    "lReg_cv.fit(X_trainset,y_trainset)"
   ]
  },
  {
   "cell_type": "code",
   "execution_count": 139,
   "metadata": {},
   "outputs": [
    {
     "name": "stdout",
     "output_type": "stream",
     "text": [
      "tuned hpyerparameters :(best parameters)  {'max_depth': 5, 'max_features': 'auto', 'min_samples_leaf': 1, 'min_samples_split': 2, 'splitter': 'best'}\n",
      "DecisionTreeRegressor Training set Accuracy : 0.8570922800200306\n"
     ]
    }
   ],
   "source": [
    "print(\"tuned hpyerparameters :(best parameters) \",lReg_cv.best_params_)\n",
    "print(\"DecisionTreeRegressor Training set Accuracy :\",lReg_cv.best_score_)"
   ]
  },
  {
   "cell_type": "code",
   "execution_count": 140,
   "metadata": {},
   "outputs": [
    {
     "name": "stdout",
     "output_type": "stream",
     "text": [
      "DecisionTreeRegressor Test set Accuracy:  0.8710418048365763\n",
      "DecisionTreeRegressor MSE:  112.86380662740721\n"
     ]
    }
   ],
   "source": [
    "yhat=lReg_cv.predict(X_testset)\n",
    "print(\"DecisionTreeRegressor Test set Accuracy: \",r2(y_testset,yhat))\n",
    "print(\"DecisionTreeRegressor MSE: \",mse(y_testset,yhat))"
   ]
  },
  {
   "cell_type": "code",
   "execution_count": 141,
   "metadata": {},
   "outputs": [
    {
     "name": "stdout",
     "output_type": "stream",
     "text": [
      "[[ 50]\n",
      " [ 17]\n",
      " [  2]\n",
      " [  7]\n",
      " [ 16]\n",
      " [ 14]\n",
      " [133]\n",
      " [ 42]\n",
      " [ 35]\n",
      " [ 11]]\n",
      "[ 63.95774648  15.96060255   8.89881657   3.64215686  11.38888889\n",
      "  15.96060255 108.96960486  15.96060255  18.52484472  15.96060255]\n"
     ]
    }
   ],
   "source": [
    "print(y_testset[0:10])\n",
    "print(yhat[0:10])"
   ]
  },
  {
   "cell_type": "code",
   "execution_count": 142,
   "metadata": {},
   "outputs": [
    {
     "data": {
      "image/png": "[encoded data removed]",
      "text/plain": [
       "<Figure size 1440x360 with 1 Axes>"
      ]
     },
     "metadata": {
      "needs_background": "light"
     },
     "output_type": "display_data"
    }
   ],
   "source": [
    "fig=plt.figure(figsize=(20,5))\n",
    "ax=fig.add_subplot()\n",
    "plt.plot(np.array(range(0,21)),y_testset[0:21])\n",
    "plt.plot(np.array(range(0,21)),yhat[0:21])\n",
    "plt.legend(labels=['Original Values','Predicted Values'])\n",
    "plt.title('DecisionTreeRegressor model Original vs. Predicted Values for Testset')\n",
    "ax.set_xlabel('Counter (first 20 outcomes)')\n",
    "ax.set_ylabel('Vessel Count')\n",
    "ax.spines['right'].set_visible(False)\n",
    "ax.spines['top'].set_visible(False)\n",
    "ax.set_xticks(np.linspace(0,20,21))\n",
    "#for p in ax.patches:\n",
    " #   ax.annotate('%2.0f'%p.get_y(), (p.get_x(), p.get_y()),fontweight='bold',fontsize=10)\n",
    "plt.show()"
   ]
  },
  {
   "cell_type": "code",
   "execution_count": null,
   "metadata": {},
   "outputs": [],
   "source": []
  }
 ],
 "metadata": {
  "kernelspec": {
   "display_name": "Python 3",
   "language": "python",
   "name": "python3"
  },
  "language_info": {
   "codemirror_mode": {
    "name": "ipython",
    "version": 3
   },
   "file_extension": ".py",
   "mimetype": "text/x-python",
   "name": "python",
   "nbconvert_exporter": "python",
   "pygments_lexer": "ipython3",
   "version": "3.8.3"
  }
 },
 "nbformat": 4,
 "nbformat_minor": 4
}
